{
 "cells": [
  {
   "cell_type": "markdown",
   "id": "b2d1ccd2",
   "metadata": {},
   "source": [
    "### Enumerables en Ruby"
   ]
  },
  {
   "cell_type": "markdown",
   "id": "5c76d857",
   "metadata": {},
   "source": [
    "#### Each\n",
    "Este método itera sobre cada elemento de la colección y ejecuta un bloque de código para cada uno.\n",
    "- Entrada : Una coleccion\n",
    "- Retorno : La misma coleccion / inplace = False"
   ]
  },
  {
   "cell_type": "code",
   "execution_count": 8,
   "id": "ca99f246",
   "metadata": {
    "collapsed": true
   },
   "outputs": [
    {
     "name": "stdout",
     "output_type": "stream",
     "text": [
      "\"Primera forma (1 linea de codigo)\"\n",
      "9\n",
      "10\n",
      "12\n",
      "7\n",
      "6\n",
      "13\n",
      "\"Segunda forma (Mas lineas de codigo)\"\n",
      "9\n",
      "10\n",
      "12\n",
      "7\n",
      "6\n",
      "13\n"
     ]
    },
    {
     "data": {
      "text/plain": [
       "[4, 5, 7, 2, 1, 8]"
      ]
     },
     "execution_count": 8,
     "metadata": {},
     "output_type": "execute_result"
    }
   ],
   "source": [
    "arr = [4,5,7,2,1,8]\n",
    "\n",
    "p \"Primera forma (1 linea de codigo)\"\n",
    "arr.each{|num| p num+5}\n",
    "\n",
    "p \"Segunda forma (Mas lineas de codigo)\"\n",
    "arr.each do |num|\n",
    "  p num+5\n",
    "end"
   ]
  },
  {
   "cell_type": "markdown",
   "id": "4b21786b",
   "metadata": {},
   "source": [
    "#### Map\n",
    "Se utiliza para transformar una colección de elementos aplicando un bloque de código a cada elemento y luego devuelve una nueva colección con los resultados de esas transformaciones.\n",
    "- Entrada : Una coleccion\n",
    "- Salida : Coleccion transformada / inplace = False"
   ]
  },
  {
   "cell_type": "code",
   "execution_count": null,
   "id": "dd85d989",
   "metadata": {},
   "outputs": [],
   "source": [
    "# Numeros de arr elevados al cuadrado\n",
    "\n",
    "arr = [4,5,7,-8,2,-1]\n",
    "arr2 = arr.map do |numero|\n",
    "  numero**2\n",
    "end\n",
    "arr2"
   ]
  },
  {
   "cell_type": "markdown",
   "id": "369a6a8f",
   "metadata": {},
   "source": [
    "#### Select\n",
    "Se utiliza para filtrar una colección de elementos y crear una nueva colección que incluye solo los elementos que cumplen con una condición especificada en un bloque de código.\n",
    "- Entrada : Una coleccion\n",
    "- Salida : Coleccion filtrada / inplace = False"
   ]
  },
  {
   "cell_type": "code",
   "execution_count": 12,
   "id": "e8cfdda4",
   "metadata": {},
   "outputs": [
    {
     "data": {
      "text/plain": [
       "[\"Bob\", \"Eva\"]"
      ]
     },
     "execution_count": 12,
     "metadata": {},
     "output_type": "execute_result"
    }
   ],
   "source": [
    "# Nombres que no tengan un tamanio mayor a 5\n",
    "\n",
    "nombres = [\"Alice\", \"Bob\", \"Charlie\", \"David\", \"Eva\"]\n",
    "\n",
    "nombres2 = nombres.select do |nombre|\n",
    "  nombre.length < 5\n",
    "end\n",
    "\n",
    "nombres2"
   ]
  },
  {
   "cell_type": "markdown",
   "id": "e7e39bbd",
   "metadata": {},
   "source": [
    "#### Reject\n",
    "se utiliza para filtrar una colección de elementos y crear una nueva colección que excluye los elementos que cumplen con una condición especificada en un bloque de código.\n",
    "- Entrada : Una colección - bloque que contiene la condición de rechazo (debe devolver true o false)\n",
    "- Salida : Nueva colección que contiene los elementos que NO cumplen con la condición especificada / inplace = False\n"
   ]
  },
  {
   "cell_type": "code",
   "execution_count": 14,
   "id": "fe4c08d7",
   "metadata": {},
   "outputs": [
    {
     "name": "stdout",
     "output_type": "stream",
     "text": [
      "[1, 3, 5, 7, 9]\n"
     ]
    },
    {
     "data": {
      "text/plain": [
       "[1, 3, 5, 7, 9]"
      ]
     },
     "execution_count": 14,
     "metadata": {},
     "output_type": "execute_result"
    }
   ],
   "source": [
    "# Rechazar los numeros pares de un arreglo\n",
    "\n",
    "numeros = [1, 2, 3, 4, 5, 6, 7, 8, 9]\n",
    "impares = numeros.reject { |numero| numero.even? }\n",
    "p impares"
   ]
  },
  {
   "cell_type": "markdown",
   "id": "1c11391a",
   "metadata": {},
   "source": [
    "#### Find\n",
    "Se utiliza para encontrar el primer elemento en una colección que cumple con una condición especificada en un bloque de código.\n",
    "- Entrada : Una colección - Un bloque de código que contiene la condición de búsqueda.\n",
    "- Salida : El primer elemento que cumple con la condición especificada en el bloque, o nil si no se encuentra ningún elemento que cumpla con la condición / inplace = False"
   ]
  },
  {
   "cell_type": "code",
   "execution_count": 16,
   "id": "5930c852",
   "metadata": {},
   "outputs": [
    {
     "name": "stdout",
     "output_type": "stream",
     "text": [
      "Charlie\n"
     ]
    }
   ],
   "source": [
    "# Busca el primer elemento que contenga una 'a'\n",
    "\n",
    "nombres = [\"Alice\", \"Bob\", \"Charlie\", \"David\", \"Eva\"]\n",
    "condNombre = nombres.find { |nombre| nombre.include?('a') }\n",
    "puts condNombre"
   ]
  }
 ],
 "metadata": {
  "kernelspec": {
   "display_name": "Ruby 3.2.2",
   "language": "ruby",
   "name": "ruby"
  },
  "language_info": {
   "file_extension": ".rb",
   "mimetype": "application/x-ruby",
   "name": "ruby",
   "version": "3.2.2"
  }
 },
 "nbformat": 4,
 "nbformat_minor": 5
}
