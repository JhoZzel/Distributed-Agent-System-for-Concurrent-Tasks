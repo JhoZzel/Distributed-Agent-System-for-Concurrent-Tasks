{
  "cells": [
    {
      "cell_type": "code",
      "source": [
        "!pip install tensorflow"
      ],
      "metadata": {
        "colab": {
          "base_uri": "https://localhost:8080/"
        },
        "id": "d_T9u6KUYYRH",
        "outputId": "f81b953a-b530-4963-d63b-2f35944134cd"
      },
      "id": "d_T9u6KUYYRH",
      "execution_count": 1,
      "outputs": [
        {
          "output_type": "stream",
          "name": "stdout",
          "text": [
            "Requirement already satisfied: tensorflow in /usr/local/lib/python3.10/dist-packages (2.15.0)\n",
            "Requirement already satisfied: absl-py>=1.0.0 in /usr/local/lib/python3.10/dist-packages (from tensorflow) (1.4.0)\n",
            "Requirement already satisfied: astunparse>=1.6.0 in /usr/local/lib/python3.10/dist-packages (from tensorflow) (1.6.3)\n",
            "Requirement already satisfied: flatbuffers>=23.5.26 in /usr/local/lib/python3.10/dist-packages (from tensorflow) (24.3.25)\n",
            "Requirement already satisfied: gast!=0.5.0,!=0.5.1,!=0.5.2,>=0.2.1 in /usr/local/lib/python3.10/dist-packages (from tensorflow) (0.5.4)\n",
            "Requirement already satisfied: google-pasta>=0.1.1 in /usr/local/lib/python3.10/dist-packages (from tensorflow) (0.2.0)\n",
            "Requirement already satisfied: h5py>=2.9.0 in /usr/local/lib/python3.10/dist-packages (from tensorflow) (3.9.0)\n",
            "Requirement already satisfied: libclang>=13.0.0 in /usr/local/lib/python3.10/dist-packages (from tensorflow) (18.1.1)\n",
            "Requirement already satisfied: ml-dtypes~=0.2.0 in /usr/local/lib/python3.10/dist-packages (from tensorflow) (0.2.0)\n",
            "Requirement already satisfied: numpy<2.0.0,>=1.23.5 in /usr/local/lib/python3.10/dist-packages (from tensorflow) (1.25.2)\n",
            "Requirement already satisfied: opt-einsum>=2.3.2 in /usr/local/lib/python3.10/dist-packages (from tensorflow) (3.3.0)\n",
            "Requirement already satisfied: packaging in /usr/local/lib/python3.10/dist-packages (from tensorflow) (24.0)\n",
            "Requirement already satisfied: protobuf!=4.21.0,!=4.21.1,!=4.21.2,!=4.21.3,!=4.21.4,!=4.21.5,<5.0.0dev,>=3.20.3 in /usr/local/lib/python3.10/dist-packages (from tensorflow) (3.20.3)\n",
            "Requirement already satisfied: setuptools in /usr/local/lib/python3.10/dist-packages (from tensorflow) (67.7.2)\n",
            "Requirement already satisfied: six>=1.12.0 in /usr/local/lib/python3.10/dist-packages (from tensorflow) (1.16.0)\n",
            "Requirement already satisfied: termcolor>=1.1.0 in /usr/local/lib/python3.10/dist-packages (from tensorflow) (2.4.0)\n",
            "Requirement already satisfied: typing-extensions>=3.6.6 in /usr/local/lib/python3.10/dist-packages (from tensorflow) (4.11.0)\n",
            "Requirement already satisfied: wrapt<1.15,>=1.11.0 in /usr/local/lib/python3.10/dist-packages (from tensorflow) (1.14.1)\n",
            "Requirement already satisfied: tensorflow-io-gcs-filesystem>=0.23.1 in /usr/local/lib/python3.10/dist-packages (from tensorflow) (0.37.0)\n",
            "Requirement already satisfied: grpcio<2.0,>=1.24.3 in /usr/local/lib/python3.10/dist-packages (from tensorflow) (1.63.0)\n",
            "Requirement already satisfied: tensorboard<2.16,>=2.15 in /usr/local/lib/python3.10/dist-packages (from tensorflow) (2.15.2)\n",
            "Requirement already satisfied: tensorflow-estimator<2.16,>=2.15.0 in /usr/local/lib/python3.10/dist-packages (from tensorflow) (2.15.0)\n",
            "Requirement already satisfied: keras<2.16,>=2.15.0 in /usr/local/lib/python3.10/dist-packages (from tensorflow) (2.15.0)\n",
            "Requirement already satisfied: wheel<1.0,>=0.23.0 in /usr/local/lib/python3.10/dist-packages (from astunparse>=1.6.0->tensorflow) (0.43.0)\n",
            "Requirement already satisfied: google-auth<3,>=1.6.3 in /usr/local/lib/python3.10/dist-packages (from tensorboard<2.16,>=2.15->tensorflow) (2.27.0)\n",
            "Requirement already satisfied: google-auth-oauthlib<2,>=0.5 in /usr/local/lib/python3.10/dist-packages (from tensorboard<2.16,>=2.15->tensorflow) (1.2.0)\n",
            "Requirement already satisfied: markdown>=2.6.8 in /usr/local/lib/python3.10/dist-packages (from tensorboard<2.16,>=2.15->tensorflow) (3.6)\n",
            "Requirement already satisfied: requests<3,>=2.21.0 in /usr/local/lib/python3.10/dist-packages (from tensorboard<2.16,>=2.15->tensorflow) (2.31.0)\n",
            "Requirement already satisfied: tensorboard-data-server<0.8.0,>=0.7.0 in /usr/local/lib/python3.10/dist-packages (from tensorboard<2.16,>=2.15->tensorflow) (0.7.2)\n",
            "Requirement already satisfied: werkzeug>=1.0.1 in /usr/local/lib/python3.10/dist-packages (from tensorboard<2.16,>=2.15->tensorflow) (3.0.2)\n",
            "Requirement already satisfied: cachetools<6.0,>=2.0.0 in /usr/local/lib/python3.10/dist-packages (from google-auth<3,>=1.6.3->tensorboard<2.16,>=2.15->tensorflow) (5.3.3)\n",
            "Requirement already satisfied: pyasn1-modules>=0.2.1 in /usr/local/lib/python3.10/dist-packages (from google-auth<3,>=1.6.3->tensorboard<2.16,>=2.15->tensorflow) (0.4.0)\n",
            "Requirement already satisfied: rsa<5,>=3.1.4 in /usr/local/lib/python3.10/dist-packages (from google-auth<3,>=1.6.3->tensorboard<2.16,>=2.15->tensorflow) (4.9)\n",
            "Requirement already satisfied: requests-oauthlib>=0.7.0 in /usr/local/lib/python3.10/dist-packages (from google-auth-oauthlib<2,>=0.5->tensorboard<2.16,>=2.15->tensorflow) (1.3.1)\n",
            "Requirement already satisfied: charset-normalizer<4,>=2 in /usr/local/lib/python3.10/dist-packages (from requests<3,>=2.21.0->tensorboard<2.16,>=2.15->tensorflow) (3.3.2)\n",
            "Requirement already satisfied: idna<4,>=2.5 in /usr/local/lib/python3.10/dist-packages (from requests<3,>=2.21.0->tensorboard<2.16,>=2.15->tensorflow) (3.7)\n",
            "Requirement already satisfied: urllib3<3,>=1.21.1 in /usr/local/lib/python3.10/dist-packages (from requests<3,>=2.21.0->tensorboard<2.16,>=2.15->tensorflow) (2.0.7)\n",
            "Requirement already satisfied: certifi>=2017.4.17 in /usr/local/lib/python3.10/dist-packages (from requests<3,>=2.21.0->tensorboard<2.16,>=2.15->tensorflow) (2024.2.2)\n",
            "Requirement already satisfied: MarkupSafe>=2.1.1 in /usr/local/lib/python3.10/dist-packages (from werkzeug>=1.0.1->tensorboard<2.16,>=2.15->tensorflow) (2.1.5)\n",
            "Requirement already satisfied: pyasn1<0.7.0,>=0.4.6 in /usr/local/lib/python3.10/dist-packages (from pyasn1-modules>=0.2.1->google-auth<3,>=1.6.3->tensorboard<2.16,>=2.15->tensorflow) (0.6.0)\n",
            "Requirement already satisfied: oauthlib>=3.0.0 in /usr/local/lib/python3.10/dist-packages (from requests-oauthlib>=0.7.0->google-auth-oauthlib<2,>=0.5->tensorboard<2.16,>=2.15->tensorflow) (3.2.2)\n"
          ]
        }
      ]
    },
    {
      "cell_type": "code",
      "source": [
        "!gdown 1T4nydNtGK4wjKkWVpjdknXphX6c_Oqy7\n",
        "!gdown 1evGAwnHbaKtkxFEfCF9VpCWyCQ9MRBN1"
      ],
      "metadata": {
        "colab": {
          "base_uri": "https://localhost:8080/"
        },
        "id": "AXM0Qsa2d6r4",
        "outputId": "276b3dbf-a8a8-475e-c98a-ebccba676e03"
      },
      "id": "AXM0Qsa2d6r4",
      "execution_count": 78,
      "outputs": [
        {
          "output_type": "stream",
          "name": "stdout",
          "text": [
            "Downloading...\n",
            "From: https://drive.google.com/uc?id=1T4nydNtGK4wjKkWVpjdknXphX6c_Oqy7\n",
            "To: /content/X.npy\n",
            "100% 1.92M/1.92M [00:00<00:00, 181MB/s]\n",
            "Downloading...\n",
            "From: https://drive.google.com/uc?id=1evGAwnHbaKtkxFEfCF9VpCWyCQ9MRBN1\n",
            "To: /content/Y.npy\n",
            "100% 320/320 [00:00<00:00, 1.34MB/s]\n"
          ]
        }
      ]
    },
    {
      "cell_type": "markdown",
      "id": "21c66b3b",
      "metadata": {
        "id": "21c66b3b"
      },
      "source": [
        "\n",
        "\n",
        "# .:Código para el entrenamiento de una Red Neuronal Convolucional usando Tensorflow y el Database MNIST:."
      ]
    },
    {
      "cell_type": "code",
      "execution_count": 64,
      "id": "74640917",
      "metadata": {
        "id": "74640917"
      },
      "outputs": [],
      "source": [
        "import tensorflow as tf # pyp install tensorflow\n",
        "import numpy as np\n",
        "import matplotlib.pyplot as plt\n",
        "from skimage.transform import resize\n",
        "from sklearn.model_selection import train_test_split\n",
        "from sklearn.preprocessing import LabelEncoder"
      ]
    },
    {
      "cell_type": "markdown",
      "id": "1de53ccc",
      "metadata": {
        "id": "1de53ccc"
      },
      "source": [
        "# Cargando - \"Conjunto de datos MNIST\"\n",
        "## Que contiene muestras de entrenamiento = 60,000 , Muestras de testeo = 10,000\n",
        "### TensorFlow ya contiene el conjunto de datos MNIST que puede ser cargado usando Keras"
      ]
    },
    {
      "cell_type": "code",
      "execution_count": null,
      "id": "b60fd159",
      "metadata": {
        "id": "b60fd159"
      },
      "outputs": [],
      "source": []
    },
    {
      "cell_type": "markdown",
      "id": "bc4db0d9",
      "metadata": {
        "id": "bc4db0d9"
      },
      "source": [
        "## Despues de cargar los datos MNIST, dividir en conjuntos de datos de entrenamiento y de testeo"
      ]
    },
    {
      "cell_type": "code",
      "execution_count": 79,
      "id": "79a7792e",
      "metadata": {
        "colab": {
          "base_uri": "https://localhost:8080/"
        },
        "id": "79a7792e",
        "outputId": "c53fdce6-ab8f-4db5-d590-0f5e952e9a52"
      },
      "outputs": [
        {
          "output_type": "execute_result",
          "data": {
            "text/plain": [
              "(48, 200, 200)"
            ]
          },
          "metadata": {},
          "execution_count": 79
        }
      ],
      "source": [
        "## Desempaquetando el conjunto de datos en conjuntos de datos de entrenamiento y de testeo\n",
        "# (x_train, y_train),(x_test, y_test) = mnist.load_data()\n",
        "x = np.load('X.npy')\n",
        "Y = np.load('Y.npy')\n",
        "x.shape"
      ]
    },
    {
      "cell_type": "code",
      "execution_count": 80,
      "id": "251090bf",
      "metadata": {
        "colab": {
          "base_uri": "https://localhost:8080/"
        },
        "id": "251090bf",
        "outputId": "e3c4364d-3b7e-4977-be97-37f6ece51ee6"
      },
      "outputs": [
        {
          "output_type": "execute_result",
          "data": {
            "text/plain": [
              "(48, 28, 28)"
            ]
          },
          "metadata": {},
          "execution_count": 80
        }
      ],
      "source": [
        "x.shape # Comprobamos las dimensionses\n",
        "# x_train = x_train.astype('float32') / 255.0\n",
        "size = (28, 28)\n",
        "X = np.empty((x.shape[0], size[0], size[1]))\n",
        "\n",
        "# Resize the images\n",
        "for i in range(x.shape[0]):\n",
        "    X[i] = resize(x[i], size)\n",
        "\n",
        "X.shape"
      ]
    },
    {
      "cell_type": "markdown",
      "id": "fc0f95fb",
      "metadata": {
        "id": "fc0f95fb"
      },
      "source": [
        "# Hacer 'one-hot encoding' de los resultados (En lugar de tener como resultado una sola neurona, tendre 10 donde solo el resultado correcto sera 1 y el resto 0)\n"
      ]
    },
    {
      "cell_type": "code",
      "execution_count": 81,
      "id": "d3d85337",
      "metadata": {
        "id": "d3d85337"
      },
      "outputs": [],
      "source": [
        "from tensorflow.keras.utils import to_categorical\n",
        "Y = to_categorical(Y)"
      ]
    },
    {
      "cell_type": "markdown",
      "id": "c08725e5",
      "metadata": {
        "id": "c08725e5"
      },
      "source": [
        "## Nos da 1 en la posicion de la etiqueta correspondiente y 0 en las demas posiciones"
      ]
    },
    {
      "cell_type": "code",
      "execution_count": 82,
      "id": "516c38a9",
      "metadata": {
        "scrolled": true,
        "colab": {
          "base_uri": "https://localhost:8080/"
        },
        "id": "516c38a9",
        "outputId": "e5173491-eaab-4a55-ca9a-b2741dda25d5"
      },
      "outputs": [
        {
          "output_type": "stream",
          "name": "stdout",
          "text": [
            "[[1. 0. 0. 0. 0. 0. 0. 0. 0. 0.]\n",
            " [1. 0. 0. 0. 0. 0. 0. 0. 0. 0.]\n",
            " [1. 0. 0. 0. 0. 0. 0. 0. 0. 0.]\n",
            " [0. 1. 0. 0. 0. 0. 0. 0. 0. 0.]\n",
            " [0. 1. 0. 0. 0. 0. 0. 0. 0. 0.]\n",
            " [0. 1. 0. 0. 0. 0. 0. 0. 0. 0.]\n",
            " [0. 1. 0. 0. 0. 0. 0. 0. 0. 0.]\n",
            " [0. 1. 0. 0. 0. 0. 0. 0. 0. 0.]\n",
            " [0. 0. 1. 0. 0. 0. 0. 0. 0. 0.]\n",
            " [0. 0. 1. 0. 0. 0. 0. 0. 0. 0.]\n",
            " [0. 0. 1. 0. 0. 0. 0. 0. 0. 0.]\n",
            " [0. 0. 0. 1. 0. 0. 0. 0. 0. 0.]\n",
            " [0. 0. 0. 1. 0. 0. 0. 0. 0. 0.]\n",
            " [0. 0. 0. 1. 0. 0. 0. 0. 0. 0.]\n",
            " [0. 0. 0. 1. 0. 0. 0. 0. 0. 0.]\n",
            " [0. 0. 0. 1. 0. 0. 0. 0. 0. 0.]\n",
            " [0. 0. 0. 1. 0. 0. 0. 0. 0. 0.]\n",
            " [0. 0. 0. 1. 0. 0. 0. 0. 0. 0.]\n",
            " [0. 0. 0. 1. 0. 0. 0. 0. 0. 0.]\n",
            " [0. 0. 0. 0. 1. 0. 0. 0. 0. 0.]\n",
            " [0. 0. 0. 0. 1. 0. 0. 0. 0. 0.]\n",
            " [0. 0. 0. 0. 1. 0. 0. 0. 0. 0.]\n",
            " [0. 0. 0. 0. 1. 0. 0. 0. 0. 0.]\n",
            " [0. 0. 0. 0. 0. 1. 0. 0. 0. 0.]\n",
            " [0. 0. 0. 0. 0. 1. 0. 0. 0. 0.]\n",
            " [0. 0. 0. 0. 0. 1. 0. 0. 0. 0.]\n",
            " [0. 0. 0. 0. 0. 1. 0. 0. 0. 0.]\n",
            " [0. 0. 0. 0. 0. 0. 1. 0. 0. 0.]\n",
            " [0. 0. 0. 0. 0. 0. 1. 0. 0. 0.]\n",
            " [0. 0. 0. 0. 0. 0. 1. 0. 0. 0.]\n",
            " [0. 0. 0. 0. 0. 0. 1. 0. 0. 0.]\n",
            " [0. 0. 0. 0. 0. 0. 0. 1. 0. 0.]\n",
            " [0. 0. 0. 0. 0. 0. 0. 1. 0. 0.]\n",
            " [0. 0. 0. 0. 0. 0. 0. 1. 0. 0.]\n",
            " [0. 0. 0. 0. 0. 0. 0. 1. 0. 0.]\n",
            " [0. 0. 0. 0. 0. 0. 0. 1. 0. 0.]\n",
            " [0. 0. 0. 0. 0. 0. 0. 1. 0. 0.]\n",
            " [0. 0. 0. 0. 0. 0. 0. 0. 1. 0.]\n",
            " [0. 0. 0. 0. 0. 0. 0. 0. 1. 0.]\n",
            " [0. 0. 0. 0. 0. 0. 0. 0. 1. 0.]\n",
            " [0. 0. 0. 0. 0. 0. 0. 0. 1. 0.]\n",
            " [0. 0. 0. 0. 0. 0. 0. 0. 1. 0.]\n",
            " [0. 0. 0. 0. 0. 0. 0. 0. 1. 0.]\n",
            " [0. 0. 0. 0. 0. 0. 0. 0. 1. 0.]\n",
            " [0. 0. 0. 0. 0. 0. 0. 0. 1. 0.]\n",
            " [0. 0. 0. 0. 0. 0. 0. 0. 0. 1.]\n",
            " [0. 0. 0. 0. 0. 0. 0. 0. 0. 1.]\n",
            " [0. 0. 0. 0. 0. 0. 0. 0. 0. 1.]]\n"
          ]
        }
      ],
      "source": [
        "print(Y)"
      ]
    },
    {
      "cell_type": "markdown",
      "id": "3b956be6",
      "metadata": {
        "id": "3b956be6"
      },
      "source": [
        "### Esta celda solo es para ver como se ve el primer dato de MNIST"
      ]
    },
    {
      "cell_type": "code",
      "execution_count": 83,
      "id": "cf2a7a9c",
      "metadata": {
        "colab": {
          "base_uri": "https://localhost:8080/",
          "height": 452
        },
        "id": "cf2a7a9c",
        "outputId": "557584bd-a560-4ac8-8e4e-5d5e0f65ae63"
      },
      "outputs": [
        {
          "output_type": "display_data",
          "data": {
            "text/plain": [
              "<Figure size 640x480 with 1 Axes>"
            ],
            "image/png": "[encoded data removed]"
          },
          "metadata": {}
        }
      ],
      "source": [
        "import numpy as np\n",
        "import matplotlib.pyplot as plt # pyp install matplotlib\n",
        "plt.imshow(X[1] , cmap = plt.cm.binary) #si queremos visualizarlo en escala de grises\n",
        "# Mostramos tambien su etiqueta y comprobamos que esta etiquetado correctamente\n",
        "etiq = \"ETIQUETA: \" + str(np.argmax(Y[1]))# Imprimo el numero donde la columna es 1\n",
        "plt.title(etiq)\n",
        "plt.show() ## Para mostrar el grafico"
      ]
    },
    {
      "cell_type": "code",
      "execution_count": 84,
      "id": "d2f47d83",
      "metadata": {
        "scrolled": true,
        "id": "d2f47d83",
        "outputId": "3357a8ea-86cf-4018-8226-f8c2d67fd4f3",
        "colab": {
          "base_uri": "https://localhost:8080/"
        }
      },
      "outputs": [
        {
          "output_type": "stream",
          "name": "stdout",
          "text": [
            "[[0.00000000e+00 0.00000000e+00 0.00000000e+00 0.00000000e+00\n",
            "  0.00000000e+00 0.00000000e+00 0.00000000e+00 0.00000000e+00\n",
            "  0.00000000e+00 0.00000000e+00 0.00000000e+00 0.00000000e+00\n",
            "  0.00000000e+00 0.00000000e+00 0.00000000e+00 0.00000000e+00\n",
            "  0.00000000e+00 0.00000000e+00 0.00000000e+00 0.00000000e+00\n",
            "  0.00000000e+00 0.00000000e+00 0.00000000e+00 0.00000000e+00\n",
            "  0.00000000e+00 0.00000000e+00 0.00000000e+00 0.00000000e+00]\n",
            " [0.00000000e+00 0.00000000e+00 0.00000000e+00 0.00000000e+00\n",
            "  0.00000000e+00 0.00000000e+00 0.00000000e+00 0.00000000e+00\n",
            "  0.00000000e+00 0.00000000e+00 0.00000000e+00 0.00000000e+00\n",
            "  0.00000000e+00 0.00000000e+00 0.00000000e+00 0.00000000e+00\n",
            "  0.00000000e+00 0.00000000e+00 0.00000000e+00 0.00000000e+00\n",
            "  0.00000000e+00 0.00000000e+00 0.00000000e+00 0.00000000e+00\n",
            "  0.00000000e+00 0.00000000e+00 0.00000000e+00 0.00000000e+00]\n",
            " [0.00000000e+00 0.00000000e+00 0.00000000e+00 0.00000000e+00\n",
            "  0.00000000e+00 0.00000000e+00 0.00000000e+00 0.00000000e+00\n",
            "  0.00000000e+00 0.00000000e+00 0.00000000e+00 0.00000000e+00\n",
            "  0.00000000e+00 0.00000000e+00 0.00000000e+00 0.00000000e+00\n",
            "  0.00000000e+00 0.00000000e+00 0.00000000e+00 0.00000000e+00\n",
            "  0.00000000e+00 0.00000000e+00 0.00000000e+00 0.00000000e+00\n",
            "  0.00000000e+00 0.00000000e+00 0.00000000e+00 0.00000000e+00]\n",
            " [0.00000000e+00 0.00000000e+00 0.00000000e+00 0.00000000e+00\n",
            "  0.00000000e+00 0.00000000e+00 0.00000000e+00 0.00000000e+00\n",
            "  0.00000000e+00 0.00000000e+00 0.00000000e+00 0.00000000e+00\n",
            "  0.00000000e+00 0.00000000e+00 0.00000000e+00 0.00000000e+00\n",
            "  0.00000000e+00 0.00000000e+00 0.00000000e+00 0.00000000e+00\n",
            "  0.00000000e+00 0.00000000e+00 0.00000000e+00 0.00000000e+00\n",
            "  0.00000000e+00 0.00000000e+00 0.00000000e+00 0.00000000e+00]\n",
            " [0.00000000e+00 0.00000000e+00 0.00000000e+00 0.00000000e+00\n",
            "  0.00000000e+00 0.00000000e+00 0.00000000e+00 0.00000000e+00\n",
            "  0.00000000e+00 0.00000000e+00 0.00000000e+00 0.00000000e+00\n",
            "  0.00000000e+00 0.00000000e+00 0.00000000e+00 0.00000000e+00\n",
            "  0.00000000e+00 0.00000000e+00 0.00000000e+00 0.00000000e+00\n",
            "  0.00000000e+00 0.00000000e+00 0.00000000e+00 0.00000000e+00\n",
            "  0.00000000e+00 0.00000000e+00 0.00000000e+00 0.00000000e+00]\n",
            " [0.00000000e+00 0.00000000e+00 0.00000000e+00 0.00000000e+00\n",
            "  0.00000000e+00 0.00000000e+00 0.00000000e+00 0.00000000e+00\n",
            "  0.00000000e+00 0.00000000e+00 0.00000000e+00 3.76281612e-08\n",
            "  3.37266288e-05 3.78878645e-04 2.23844546e-04 3.35454680e-03\n",
            "  4.70380591e-03 4.73782746e-04 9.23678227e-07 0.00000000e+00\n",
            "  0.00000000e+00 0.00000000e+00 0.00000000e+00 0.00000000e+00\n",
            "  0.00000000e+00 0.00000000e+00 0.00000000e+00 0.00000000e+00]\n",
            " [0.00000000e+00 0.00000000e+00 0.00000000e+00 0.00000000e+00\n",
            "  0.00000000e+00 0.00000000e+00 0.00000000e+00 0.00000000e+00\n",
            "  0.00000000e+00 0.00000000e+00 0.00000000e+00 6.86980797e-05\n",
            "  1.87040757e-02 1.28931597e-01 6.66738957e-02 2.90913429e-01\n",
            "  3.61773919e-01 7.31111929e-02 1.78449984e-03 4.52479107e-06\n",
            "  0.00000000e+00 0.00000000e+00 0.00000000e+00 0.00000000e+00\n",
            "  0.00000000e+00 0.00000000e+00 0.00000000e+00 0.00000000e+00]\n",
            " [0.00000000e+00 0.00000000e+00 0.00000000e+00 0.00000000e+00\n",
            "  0.00000000e+00 0.00000000e+00 0.00000000e+00 0.00000000e+00\n",
            "  0.00000000e+00 0.00000000e+00 0.00000000e+00 2.25366794e-03\n",
            "  2.39010802e-01 8.22068157e-01 6.28172320e-01 9.04295580e-01\n",
            "  9.49645867e-01 6.21630159e-01 1.26809665e-01 4.06750741e-03\n",
            "  2.71834797e-05 1.57969351e-09 0.00000000e+00 0.00000000e+00\n",
            "  0.00000000e+00 0.00000000e+00 0.00000000e+00 0.00000000e+00]\n",
            " [0.00000000e+00 0.00000000e+00 0.00000000e+00 0.00000000e+00\n",
            "  0.00000000e+00 0.00000000e+00 0.00000000e+00 0.00000000e+00\n",
            "  0.00000000e+00 0.00000000e+00 0.00000000e+00 2.63021740e-03\n",
            "  2.51453643e-01 8.47873170e-01 9.65391119e-01 8.10717951e-01\n",
            "  6.17362581e-01 9.16178352e-01 7.13221336e-01 2.19153933e-01\n",
            "  1.26633964e-02 5.23514153e-05 0.00000000e+00 0.00000000e+00\n",
            "  0.00000000e+00 0.00000000e+00 0.00000000e+00 0.00000000e+00]\n",
            " [0.00000000e+00 0.00000000e+00 0.00000000e+00 0.00000000e+00\n",
            "  0.00000000e+00 0.00000000e+00 0.00000000e+00 0.00000000e+00\n",
            "  0.00000000e+00 0.00000000e+00 3.34196557e-06 4.24165661e-03\n",
            "  2.17923286e-01 8.41738363e-01 8.73311274e-01 2.75158167e-01\n",
            "  5.05021733e-02 4.26355574e-01 8.82758121e-01 8.36189341e-01\n",
            "  2.39764818e-01 2.71909593e-03 0.00000000e+00 0.00000000e+00\n",
            "  0.00000000e+00 0.00000000e+00 0.00000000e+00 0.00000000e+00]\n",
            " [0.00000000e+00 0.00000000e+00 0.00000000e+00 0.00000000e+00\n",
            "  0.00000000e+00 0.00000000e+00 0.00000000e+00 0.00000000e+00\n",
            "  0.00000000e+00 0.00000000e+00 8.42446534e-04 1.06880597e-01\n",
            "  7.08676253e-01 8.82818981e-01 3.08792559e-01 1.86306059e-02\n",
            "  3.72014136e-04 2.59381857e-02 3.12094166e-01 9.15020916e-01\n",
            "  4.82451481e-01 9.83410162e-03 0.00000000e+00 0.00000000e+00\n",
            "  0.00000000e+00 0.00000000e+00 0.00000000e+00 0.00000000e+00]\n",
            " [0.00000000e+00 0.00000000e+00 0.00000000e+00 0.00000000e+00\n",
            "  0.00000000e+00 0.00000000e+00 0.00000000e+00 0.00000000e+00\n",
            "  0.00000000e+00 0.00000000e+00 1.17332686e-02 4.55940892e-01\n",
            "  9.67515390e-01 6.22848573e-01 3.03728249e-02 8.25605600e-05\n",
            "  8.52015363e-08 2.49153454e-04 1.12707535e-01 8.54689045e-01\n",
            "  5.67439958e-01 1.56220260e-02 0.00000000e+00 0.00000000e+00\n",
            "  0.00000000e+00 0.00000000e+00 0.00000000e+00 0.00000000e+00]\n",
            " [0.00000000e+00 0.00000000e+00 0.00000000e+00 0.00000000e+00\n",
            "  0.00000000e+00 0.00000000e+00 0.00000000e+00 0.00000000e+00\n",
            "  0.00000000e+00 0.00000000e+00 2.50945335e-02 6.30556102e-01\n",
            "  9.85507256e-01 5.16884333e-01 1.19992890e-02 1.26270821e-08\n",
            "  6.10689121e-09 1.87377173e-04 1.07434711e-01 8.51158575e-01\n",
            "  5.73235816e-01 1.60393648e-02 0.00000000e+00 0.00000000e+00\n",
            "  0.00000000e+00 0.00000000e+00 0.00000000e+00 0.00000000e+00]\n",
            " [0.00000000e+00 0.00000000e+00 0.00000000e+00 0.00000000e+00\n",
            "  0.00000000e+00 0.00000000e+00 0.00000000e+00 0.00000000e+00\n",
            "  0.00000000e+00 0.00000000e+00 1.18237300e-02 4.20491385e-01\n",
            "  9.50455304e-01 4.48389737e-01 7.05262243e-03 1.29432450e-07\n",
            "  2.94835107e-04 1.77424518e-02 2.40202766e-01 8.94979335e-01\n",
            "  5.37784574e-01 1.37765951e-02 0.00000000e+00 0.00000000e+00\n",
            "  0.00000000e+00 0.00000000e+00 0.00000000e+00 0.00000000e+00]\n",
            " [0.00000000e+00 0.00000000e+00 0.00000000e+00 0.00000000e+00\n",
            "  0.00000000e+00 0.00000000e+00 0.00000000e+00 0.00000000e+00\n",
            "  0.00000000e+00 0.00000000e+00 7.32633178e-04 1.68227457e-01\n",
            "  8.92987679e-01 5.09514880e-01 1.89213649e-02 2.80217961e-03\n",
            "  4.67873367e-02 4.19746925e-01 8.47176707e-01 8.89154677e-01\n",
            "  2.72305152e-01 3.33910712e-03 0.00000000e+00 0.00000000e+00\n",
            "  0.00000000e+00 0.00000000e+00 0.00000000e+00 0.00000000e+00]\n",
            " [0.00000000e+00 0.00000000e+00 0.00000000e+00 0.00000000e+00\n",
            "  0.00000000e+00 0.00000000e+00 0.00000000e+00 0.00000000e+00\n",
            "  0.00000000e+00 0.00000000e+00 1.46446228e-04 8.21090898e-02\n",
            "  7.58332750e-01 8.56123215e-01 3.81991566e-01 2.77453762e-01\n",
            "  6.04558383e-01 9.18515110e-01 7.25163660e-01 2.83322232e-01\n",
            "  2.51008655e-02 8.31189609e-05 0.00000000e+00 0.00000000e+00\n",
            "  0.00000000e+00 0.00000000e+00 0.00000000e+00 0.00000000e+00]\n",
            " [0.00000000e+00 0.00000000e+00 0.00000000e+00 0.00000000e+00\n",
            "  0.00000000e+00 0.00000000e+00 0.00000000e+00 0.00000000e+00\n",
            "  0.00000000e+00 0.00000000e+00 4.36486647e-06 7.43867161e-03\n",
            "  2.54279899e-01 7.87660555e-01 9.30432525e-01 9.29405824e-01\n",
            "  8.83371550e-01 5.96006567e-01 1.22399964e-01 5.27703486e-03\n",
            "  9.13901866e-05 6.19237961e-08 0.00000000e+00 0.00000000e+00\n",
            "  0.00000000e+00 0.00000000e+00 0.00000000e+00 0.00000000e+00]\n",
            " [0.00000000e+00 0.00000000e+00 0.00000000e+00 0.00000000e+00\n",
            "  0.00000000e+00 0.00000000e+00 0.00000000e+00 0.00000000e+00\n",
            "  0.00000000e+00 0.00000000e+00 7.38000514e-10 4.78800105e-05\n",
            "  9.30646988e-03 1.14188324e-01 3.49993370e-01 4.46126693e-01\n",
            "  2.00338862e-01 3.76799598e-02 1.79709968e-03 4.10083942e-06\n",
            "  0.00000000e+00 0.00000000e+00 0.00000000e+00 0.00000000e+00\n",
            "  0.00000000e+00 0.00000000e+00 0.00000000e+00 0.00000000e+00]\n",
            " [0.00000000e+00 0.00000000e+00 0.00000000e+00 0.00000000e+00\n",
            "  0.00000000e+00 0.00000000e+00 0.00000000e+00 0.00000000e+00\n",
            "  0.00000000e+00 0.00000000e+00 0.00000000e+00 2.55940490e-09\n",
            "  5.92518987e-06 4.90802105e-04 4.41988471e-03 8.25364724e-03\n",
            "  1.65803829e-03 4.45408167e-05 1.55037904e-07 0.00000000e+00\n",
            "  0.00000000e+00 0.00000000e+00 0.00000000e+00 0.00000000e+00\n",
            "  0.00000000e+00 0.00000000e+00 0.00000000e+00 0.00000000e+00]\n",
            " [0.00000000e+00 0.00000000e+00 0.00000000e+00 0.00000000e+00\n",
            "  0.00000000e+00 0.00000000e+00 0.00000000e+00 0.00000000e+00\n",
            "  0.00000000e+00 0.00000000e+00 0.00000000e+00 0.00000000e+00\n",
            "  0.00000000e+00 0.00000000e+00 0.00000000e+00 0.00000000e+00\n",
            "  0.00000000e+00 0.00000000e+00 0.00000000e+00 0.00000000e+00\n",
            "  0.00000000e+00 0.00000000e+00 0.00000000e+00 0.00000000e+00\n",
            "  0.00000000e+00 0.00000000e+00 0.00000000e+00 0.00000000e+00]\n",
            " [0.00000000e+00 0.00000000e+00 0.00000000e+00 0.00000000e+00\n",
            "  0.00000000e+00 0.00000000e+00 0.00000000e+00 0.00000000e+00\n",
            "  0.00000000e+00 0.00000000e+00 0.00000000e+00 0.00000000e+00\n",
            "  0.00000000e+00 0.00000000e+00 0.00000000e+00 0.00000000e+00\n",
            "  0.00000000e+00 0.00000000e+00 0.00000000e+00 0.00000000e+00\n",
            "  0.00000000e+00 0.00000000e+00 0.00000000e+00 0.00000000e+00\n",
            "  0.00000000e+00 0.00000000e+00 0.00000000e+00 0.00000000e+00]\n",
            " [0.00000000e+00 0.00000000e+00 0.00000000e+00 0.00000000e+00\n",
            "  0.00000000e+00 0.00000000e+00 0.00000000e+00 0.00000000e+00\n",
            "  0.00000000e+00 0.00000000e+00 0.00000000e+00 0.00000000e+00\n",
            "  0.00000000e+00 0.00000000e+00 0.00000000e+00 0.00000000e+00\n",
            "  0.00000000e+00 0.00000000e+00 0.00000000e+00 0.00000000e+00\n",
            "  0.00000000e+00 0.00000000e+00 0.00000000e+00 0.00000000e+00\n",
            "  0.00000000e+00 0.00000000e+00 0.00000000e+00 0.00000000e+00]\n",
            " [0.00000000e+00 0.00000000e+00 0.00000000e+00 0.00000000e+00\n",
            "  0.00000000e+00 0.00000000e+00 0.00000000e+00 0.00000000e+00\n",
            "  0.00000000e+00 0.00000000e+00 0.00000000e+00 0.00000000e+00\n",
            "  0.00000000e+00 0.00000000e+00 0.00000000e+00 0.00000000e+00\n",
            "  0.00000000e+00 0.00000000e+00 0.00000000e+00 0.00000000e+00\n",
            "  0.00000000e+00 0.00000000e+00 0.00000000e+00 0.00000000e+00\n",
            "  0.00000000e+00 0.00000000e+00 0.00000000e+00 0.00000000e+00]\n",
            " [0.00000000e+00 0.00000000e+00 0.00000000e+00 0.00000000e+00\n",
            "  0.00000000e+00 0.00000000e+00 0.00000000e+00 0.00000000e+00\n",
            "  0.00000000e+00 0.00000000e+00 0.00000000e+00 0.00000000e+00\n",
            "  0.00000000e+00 0.00000000e+00 0.00000000e+00 0.00000000e+00\n",
            "  0.00000000e+00 0.00000000e+00 0.00000000e+00 0.00000000e+00\n",
            "  0.00000000e+00 0.00000000e+00 0.00000000e+00 0.00000000e+00\n",
            "  0.00000000e+00 0.00000000e+00 0.00000000e+00 0.00000000e+00]\n",
            " [0.00000000e+00 0.00000000e+00 0.00000000e+00 0.00000000e+00\n",
            "  0.00000000e+00 0.00000000e+00 0.00000000e+00 0.00000000e+00\n",
            "  0.00000000e+00 0.00000000e+00 0.00000000e+00 0.00000000e+00\n",
            "  0.00000000e+00 0.00000000e+00 0.00000000e+00 0.00000000e+00\n",
            "  0.00000000e+00 0.00000000e+00 0.00000000e+00 0.00000000e+00\n",
            "  0.00000000e+00 0.00000000e+00 0.00000000e+00 0.00000000e+00\n",
            "  0.00000000e+00 0.00000000e+00 0.00000000e+00 0.00000000e+00]\n",
            " [0.00000000e+00 0.00000000e+00 0.00000000e+00 0.00000000e+00\n",
            "  0.00000000e+00 0.00000000e+00 0.00000000e+00 0.00000000e+00\n",
            "  0.00000000e+00 0.00000000e+00 0.00000000e+00 0.00000000e+00\n",
            "  0.00000000e+00 0.00000000e+00 0.00000000e+00 0.00000000e+00\n",
            "  0.00000000e+00 0.00000000e+00 0.00000000e+00 0.00000000e+00\n",
            "  0.00000000e+00 0.00000000e+00 0.00000000e+00 0.00000000e+00\n",
            "  0.00000000e+00 0.00000000e+00 0.00000000e+00 0.00000000e+00]\n",
            " [0.00000000e+00 0.00000000e+00 0.00000000e+00 0.00000000e+00\n",
            "  0.00000000e+00 0.00000000e+00 0.00000000e+00 0.00000000e+00\n",
            "  0.00000000e+00 0.00000000e+00 0.00000000e+00 0.00000000e+00\n",
            "  0.00000000e+00 0.00000000e+00 0.00000000e+00 0.00000000e+00\n",
            "  0.00000000e+00 0.00000000e+00 0.00000000e+00 0.00000000e+00\n",
            "  0.00000000e+00 0.00000000e+00 0.00000000e+00 0.00000000e+00\n",
            "  0.00000000e+00 0.00000000e+00 0.00000000e+00 0.00000000e+00]\n",
            " [0.00000000e+00 0.00000000e+00 0.00000000e+00 0.00000000e+00\n",
            "  0.00000000e+00 0.00000000e+00 0.00000000e+00 0.00000000e+00\n",
            "  0.00000000e+00 0.00000000e+00 0.00000000e+00 0.00000000e+00\n",
            "  0.00000000e+00 0.00000000e+00 0.00000000e+00 0.00000000e+00\n",
            "  0.00000000e+00 0.00000000e+00 0.00000000e+00 0.00000000e+00\n",
            "  0.00000000e+00 0.00000000e+00 0.00000000e+00 0.00000000e+00\n",
            "  0.00000000e+00 0.00000000e+00 0.00000000e+00 0.00000000e+00]]\n"
          ]
        }
      ],
      "source": [
        "print (X[0]) # Antes de la normalizacion"
      ]
    },
    {
      "cell_type": "markdown",
      "id": "915973c1",
      "metadata": {
        "id": "915973c1"
      },
      "source": [
        "## Ya que las imagenes estan en escala de grises(1 canal ==> 0 a 255), no colores (RGB)\n",
        "# Normalizando los datos | Paso de Pre-Procesamiento"
      ]
    },
    {
      "cell_type": "code",
      "execution_count": 85,
      "id": "e917e80c",
      "metadata": {
        "scrolled": true,
        "id": "e917e80c"
      },
      "outputs": [],
      "source": [
        "## Se puede notar que la imagen gris y todos los valores varían de 0 a 255\n",
        "## Para normalizarlo\n",
        "X = X.astype('float32') / 255"
      ]
    },
    {
      "cell_type": "code",
      "execution_count": 86,
      "id": "cd4ebf84",
      "metadata": {
        "id": "cd4ebf84",
        "outputId": "46b8a16f-5564-4b5b-b676-99a07e0bfa06",
        "colab": {
          "base_uri": "https://localhost:8080/"
        }
      },
      "outputs": [
        {
          "output_type": "stream",
          "name": "stdout",
          "text": [
            "[[0.00000000e+00 0.00000000e+00 0.00000000e+00 0.00000000e+00\n",
            "  0.00000000e+00 0.00000000e+00 0.00000000e+00 0.00000000e+00\n",
            "  0.00000000e+00 0.00000000e+00 0.00000000e+00 0.00000000e+00\n",
            "  0.00000000e+00 0.00000000e+00 0.00000000e+00 0.00000000e+00\n",
            "  0.00000000e+00 0.00000000e+00 0.00000000e+00 0.00000000e+00\n",
            "  0.00000000e+00 0.00000000e+00 0.00000000e+00 0.00000000e+00\n",
            "  0.00000000e+00 0.00000000e+00 0.00000000e+00 0.00000000e+00]\n",
            " [0.00000000e+00 0.00000000e+00 0.00000000e+00 0.00000000e+00\n",
            "  0.00000000e+00 0.00000000e+00 0.00000000e+00 0.00000000e+00\n",
            "  0.00000000e+00 0.00000000e+00 0.00000000e+00 0.00000000e+00\n",
            "  0.00000000e+00 0.00000000e+00 0.00000000e+00 0.00000000e+00\n",
            "  0.00000000e+00 0.00000000e+00 0.00000000e+00 0.00000000e+00\n",
            "  0.00000000e+00 0.00000000e+00 0.00000000e+00 0.00000000e+00\n",
            "  0.00000000e+00 0.00000000e+00 0.00000000e+00 0.00000000e+00]\n",
            " [0.00000000e+00 0.00000000e+00 0.00000000e+00 0.00000000e+00\n",
            "  0.00000000e+00 0.00000000e+00 0.00000000e+00 0.00000000e+00\n",
            "  0.00000000e+00 0.00000000e+00 0.00000000e+00 0.00000000e+00\n",
            "  0.00000000e+00 0.00000000e+00 0.00000000e+00 0.00000000e+00\n",
            "  0.00000000e+00 0.00000000e+00 0.00000000e+00 0.00000000e+00\n",
            "  0.00000000e+00 0.00000000e+00 0.00000000e+00 0.00000000e+00\n",
            "  0.00000000e+00 0.00000000e+00 0.00000000e+00 0.00000000e+00]\n",
            " [0.00000000e+00 0.00000000e+00 0.00000000e+00 0.00000000e+00\n",
            "  0.00000000e+00 0.00000000e+00 0.00000000e+00 0.00000000e+00\n",
            "  0.00000000e+00 0.00000000e+00 0.00000000e+00 0.00000000e+00\n",
            "  0.00000000e+00 0.00000000e+00 0.00000000e+00 0.00000000e+00\n",
            "  0.00000000e+00 0.00000000e+00 0.00000000e+00 0.00000000e+00\n",
            "  0.00000000e+00 0.00000000e+00 0.00000000e+00 0.00000000e+00\n",
            "  0.00000000e+00 0.00000000e+00 0.00000000e+00 0.00000000e+00]\n",
            " [0.00000000e+00 0.00000000e+00 0.00000000e+00 0.00000000e+00\n",
            "  0.00000000e+00 0.00000000e+00 0.00000000e+00 0.00000000e+00\n",
            "  0.00000000e+00 0.00000000e+00 0.00000000e+00 0.00000000e+00\n",
            "  0.00000000e+00 0.00000000e+00 0.00000000e+00 0.00000000e+00\n",
            "  0.00000000e+00 0.00000000e+00 0.00000000e+00 0.00000000e+00\n",
            "  0.00000000e+00 0.00000000e+00 0.00000000e+00 0.00000000e+00\n",
            "  0.00000000e+00 0.00000000e+00 0.00000000e+00 0.00000000e+00]\n",
            " [0.00000000e+00 0.00000000e+00 0.00000000e+00 0.00000000e+00\n",
            "  0.00000000e+00 0.00000000e+00 0.00000000e+00 0.00000000e+00\n",
            "  0.00000000e+00 0.00000000e+00 0.00000000e+00 1.47561421e-10\n",
            "  1.32261292e-07 1.48579863e-06 8.77821719e-07 1.31550860e-05\n",
            "  1.84462970e-05 1.85797148e-06 3.62226760e-09 0.00000000e+00\n",
            "  0.00000000e+00 0.00000000e+00 0.00000000e+00 0.00000000e+00\n",
            "  0.00000000e+00 0.00000000e+00 0.00000000e+00 0.00000000e+00]\n",
            " [0.00000000e+00 0.00000000e+00 0.00000000e+00 0.00000000e+00\n",
            "  0.00000000e+00 0.00000000e+00 0.00000000e+00 0.00000000e+00\n",
            "  0.00000000e+00 0.00000000e+00 0.00000000e+00 2.69404239e-07\n",
            "  7.33493143e-05 5.05614094e-04 2.61466252e-04 1.14083698e-03\n",
            "  1.41872116e-03 2.86710565e-04 6.99803877e-06 1.77442789e-08\n",
            "  0.00000000e+00 0.00000000e+00 0.00000000e+00 0.00000000e+00\n",
            "  0.00000000e+00 0.00000000e+00 0.00000000e+00 0.00000000e+00]\n",
            " [0.00000000e+00 0.00000000e+00 0.00000000e+00 0.00000000e+00\n",
            "  0.00000000e+00 0.00000000e+00 0.00000000e+00 0.00000000e+00\n",
            "  0.00000000e+00 0.00000000e+00 0.00000000e+00 8.83791381e-06\n",
            "  9.37297242e-04 3.22379661e-03 2.46342085e-03 3.54625704e-03\n",
            "  3.72410147e-03 2.43776524e-03 4.97292844e-04 1.59510109e-05\n",
            "  1.06601881e-07 6.19487621e-12 0.00000000e+00 0.00000000e+00\n",
            "  0.00000000e+00 0.00000000e+00 0.00000000e+00 0.00000000e+00]\n",
            " [0.00000000e+00 0.00000000e+00 0.00000000e+00 0.00000000e+00\n",
            "  0.00000000e+00 0.00000000e+00 0.00000000e+00 0.00000000e+00\n",
            "  0.00000000e+00 0.00000000e+00 0.00000000e+00 1.03145785e-05\n",
            "  9.86092724e-04 3.32499272e-03 3.78584745e-03 3.17928614e-03\n",
            "  2.42102961e-03 3.59285623e-03 2.79694633e-03 8.59427149e-04\n",
            "  4.96603752e-05 2.05299656e-07 0.00000000e+00 0.00000000e+00\n",
            "  0.00000000e+00 0.00000000e+00 0.00000000e+00 0.00000000e+00]\n",
            " [0.00000000e+00 0.00000000e+00 0.00000000e+00 0.00000000e+00\n",
            "  0.00000000e+00 0.00000000e+00 0.00000000e+00 0.00000000e+00\n",
            "  0.00000000e+00 0.00000000e+00 1.31057476e-08 1.66339469e-05\n",
            "  8.54601094e-04 3.30093456e-03 3.42475018e-03 1.07905164e-03\n",
            "  1.98047739e-04 1.67198258e-03 3.46179656e-03 3.27917375e-03\n",
            "  9.40254191e-04 1.06631214e-05 0.00000000e+00 0.00000000e+00\n",
            "  0.00000000e+00 0.00000000e+00 0.00000000e+00 0.00000000e+00]\n",
            " [0.00000000e+00 0.00000000e+00 0.00000000e+00 0.00000000e+00\n",
            "  0.00000000e+00 0.00000000e+00 0.00000000e+00 0.00000000e+00\n",
            "  0.00000000e+00 0.00000000e+00 3.30371176e-06 4.19139600e-04\n",
            "  2.77912267e-03 3.46203521e-03 1.21095125e-03 7.30611937e-05\n",
            "  1.45887896e-06 1.01718375e-04 1.22389861e-03 3.58831743e-03\n",
            "  1.89196656e-03 3.85651038e-05 0.00000000e+00 0.00000000e+00\n",
            "  0.00000000e+00 0.00000000e+00 0.00000000e+00 0.00000000e+00]\n",
            " [0.00000000e+00 0.00000000e+00 0.00000000e+00 0.00000000e+00\n",
            "  0.00000000e+00 0.00000000e+00 0.00000000e+00 0.00000000e+00\n",
            "  0.00000000e+00 0.00000000e+00 4.60128176e-05 1.78800349e-03\n",
            "  3.79417813e-03 2.44254339e-03 1.19109114e-04 3.23766898e-07\n",
            "  3.34123673e-10 9.77072432e-07 4.41990327e-04 3.35172191e-03\n",
            "  2.22525490e-03 6.12628501e-05 0.00000000e+00 0.00000000e+00\n",
            "  0.00000000e+00 0.00000000e+00 0.00000000e+00 0.00000000e+00]\n",
            " [0.00000000e+00 0.00000000e+00 0.00000000e+00 0.00000000e+00\n",
            "  0.00000000e+00 0.00000000e+00 0.00000000e+00 0.00000000e+00\n",
            "  0.00000000e+00 0.00000000e+00 9.84099315e-05 2.47276900e-03\n",
            "  3.86473420e-03 2.02699727e-03 4.70560335e-05 4.95179696e-11\n",
            "  2.39485914e-11 7.34812431e-07 4.21312609e-04 3.33787664e-03\n",
            "  2.24798359e-03 6.28994676e-05 0.00000000e+00 0.00000000e+00\n",
            "  0.00000000e+00 0.00000000e+00 0.00000000e+00 0.00000000e+00]\n",
            " [0.00000000e+00 0.00000000e+00 0.00000000e+00 0.00000000e+00\n",
            "  0.00000000e+00 0.00000000e+00 0.00000000e+00 0.00000000e+00\n",
            "  0.00000000e+00 0.00000000e+00 4.63675678e-05 1.64898590e-03\n",
            "  3.72727565e-03 1.75839115e-03 2.76573428e-05 5.07578257e-10\n",
            "  1.15621606e-06 6.95782437e-05 9.41971666e-04 3.50972288e-03\n",
            "  2.10895902e-03 5.40258625e-05 0.00000000e+00 0.00000000e+00\n",
            "  0.00000000e+00 0.00000000e+00 0.00000000e+00 0.00000000e+00]\n",
            " [0.00000000e+00 0.00000000e+00 0.00000000e+00 0.00000000e+00\n",
            "  0.00000000e+00 0.00000000e+00 0.00000000e+00 0.00000000e+00\n",
            "  0.00000000e+00 0.00000000e+00 2.87307125e-06 6.59715559e-04\n",
            "  3.50191235e-03 1.99809764e-03 7.42014308e-05 1.09889397e-05\n",
            "  1.83479744e-04 1.64606643e-03 3.32226162e-03 3.48688103e-03\n",
            "  1.06786343e-03 1.30945382e-05 0.00000000e+00 0.00000000e+00\n",
            "  0.00000000e+00 0.00000000e+00 0.00000000e+00 0.00000000e+00]\n",
            " [0.00000000e+00 0.00000000e+00 0.00000000e+00 0.00000000e+00\n",
            "  0.00000000e+00 0.00000000e+00 0.00000000e+00 0.00000000e+00\n",
            "  0.00000000e+00 0.00000000e+00 5.74298952e-07 3.21996427e-04\n",
            "  2.97385384e-03 3.35734594e-03 1.49800617e-03 1.08805392e-03\n",
            "  2.37081735e-03 3.60201998e-03 2.84377905e-03 1.11106760e-03\n",
            "  9.84347716e-05 3.25956705e-07 0.00000000e+00 0.00000000e+00\n",
            "  0.00000000e+00 0.00000000e+00 0.00000000e+00 0.00000000e+00]\n",
            " [0.00000000e+00 0.00000000e+00 0.00000000e+00 0.00000000e+00\n",
            "  0.00000000e+00 0.00000000e+00 0.00000000e+00 0.00000000e+00\n",
            "  0.00000000e+00 0.00000000e+00 1.71171237e-08 2.91712622e-05\n",
            "  9.97176161e-04 3.08886496e-03 3.64875491e-03 3.64472857e-03\n",
            "  3.46420216e-03 2.33728066e-03 4.79999842e-04 2.06942550e-05\n",
            "  3.58392896e-07 2.42838416e-10 0.00000000e+00 0.00000000e+00\n",
            "  0.00000000e+00 0.00000000e+00 0.00000000e+00 0.00000000e+00]\n",
            " [0.00000000e+00 0.00000000e+00 0.00000000e+00 0.00000000e+00\n",
            "  0.00000000e+00 0.00000000e+00 0.00000000e+00 0.00000000e+00\n",
            "  0.00000000e+00 0.00000000e+00 2.89411962e-12 1.87764741e-07\n",
            "  3.64959596e-05 4.47797327e-04 1.37252302e-03 1.74951646e-03\n",
            "  7.85642595e-04 1.47764542e-04 7.04744980e-06 1.60817226e-08\n",
            "  0.00000000e+00 0.00000000e+00 0.00000000e+00 0.00000000e+00\n",
            "  0.00000000e+00 0.00000000e+00 0.00000000e+00 0.00000000e+00]\n",
            " [0.00000000e+00 0.00000000e+00 0.00000000e+00 0.00000000e+00\n",
            "  0.00000000e+00 0.00000000e+00 0.00000000e+00 0.00000000e+00\n",
            "  0.00000000e+00 0.00000000e+00 0.00000000e+00 1.00368819e-11\n",
            "  2.32360389e-08 1.92471407e-06 1.73328808e-05 3.23672430e-05\n",
            "  6.50211086e-06 1.74669864e-07 6.07991824e-10 0.00000000e+00\n",
            "  0.00000000e+00 0.00000000e+00 0.00000000e+00 0.00000000e+00\n",
            "  0.00000000e+00 0.00000000e+00 0.00000000e+00 0.00000000e+00]\n",
            " [0.00000000e+00 0.00000000e+00 0.00000000e+00 0.00000000e+00\n",
            "  0.00000000e+00 0.00000000e+00 0.00000000e+00 0.00000000e+00\n",
            "  0.00000000e+00 0.00000000e+00 0.00000000e+00 0.00000000e+00\n",
            "  0.00000000e+00 0.00000000e+00 0.00000000e+00 0.00000000e+00\n",
            "  0.00000000e+00 0.00000000e+00 0.00000000e+00 0.00000000e+00\n",
            "  0.00000000e+00 0.00000000e+00 0.00000000e+00 0.00000000e+00\n",
            "  0.00000000e+00 0.00000000e+00 0.00000000e+00 0.00000000e+00]\n",
            " [0.00000000e+00 0.00000000e+00 0.00000000e+00 0.00000000e+00\n",
            "  0.00000000e+00 0.00000000e+00 0.00000000e+00 0.00000000e+00\n",
            "  0.00000000e+00 0.00000000e+00 0.00000000e+00 0.00000000e+00\n",
            "  0.00000000e+00 0.00000000e+00 0.00000000e+00 0.00000000e+00\n",
            "  0.00000000e+00 0.00000000e+00 0.00000000e+00 0.00000000e+00\n",
            "  0.00000000e+00 0.00000000e+00 0.00000000e+00 0.00000000e+00\n",
            "  0.00000000e+00 0.00000000e+00 0.00000000e+00 0.00000000e+00]\n",
            " [0.00000000e+00 0.00000000e+00 0.00000000e+00 0.00000000e+00\n",
            "  0.00000000e+00 0.00000000e+00 0.00000000e+00 0.00000000e+00\n",
            "  0.00000000e+00 0.00000000e+00 0.00000000e+00 0.00000000e+00\n",
            "  0.00000000e+00 0.00000000e+00 0.00000000e+00 0.00000000e+00\n",
            "  0.00000000e+00 0.00000000e+00 0.00000000e+00 0.00000000e+00\n",
            "  0.00000000e+00 0.00000000e+00 0.00000000e+00 0.00000000e+00\n",
            "  0.00000000e+00 0.00000000e+00 0.00000000e+00 0.00000000e+00]\n",
            " [0.00000000e+00 0.00000000e+00 0.00000000e+00 0.00000000e+00\n",
            "  0.00000000e+00 0.00000000e+00 0.00000000e+00 0.00000000e+00\n",
            "  0.00000000e+00 0.00000000e+00 0.00000000e+00 0.00000000e+00\n",
            "  0.00000000e+00 0.00000000e+00 0.00000000e+00 0.00000000e+00\n",
            "  0.00000000e+00 0.00000000e+00 0.00000000e+00 0.00000000e+00\n",
            "  0.00000000e+00 0.00000000e+00 0.00000000e+00 0.00000000e+00\n",
            "  0.00000000e+00 0.00000000e+00 0.00000000e+00 0.00000000e+00]\n",
            " [0.00000000e+00 0.00000000e+00 0.00000000e+00 0.00000000e+00\n",
            "  0.00000000e+00 0.00000000e+00 0.00000000e+00 0.00000000e+00\n",
            "  0.00000000e+00 0.00000000e+00 0.00000000e+00 0.00000000e+00\n",
            "  0.00000000e+00 0.00000000e+00 0.00000000e+00 0.00000000e+00\n",
            "  0.00000000e+00 0.00000000e+00 0.00000000e+00 0.00000000e+00\n",
            "  0.00000000e+00 0.00000000e+00 0.00000000e+00 0.00000000e+00\n",
            "  0.00000000e+00 0.00000000e+00 0.00000000e+00 0.00000000e+00]\n",
            " [0.00000000e+00 0.00000000e+00 0.00000000e+00 0.00000000e+00\n",
            "  0.00000000e+00 0.00000000e+00 0.00000000e+00 0.00000000e+00\n",
            "  0.00000000e+00 0.00000000e+00 0.00000000e+00 0.00000000e+00\n",
            "  0.00000000e+00 0.00000000e+00 0.00000000e+00 0.00000000e+00\n",
            "  0.00000000e+00 0.00000000e+00 0.00000000e+00 0.00000000e+00\n",
            "  0.00000000e+00 0.00000000e+00 0.00000000e+00 0.00000000e+00\n",
            "  0.00000000e+00 0.00000000e+00 0.00000000e+00 0.00000000e+00]\n",
            " [0.00000000e+00 0.00000000e+00 0.00000000e+00 0.00000000e+00\n",
            "  0.00000000e+00 0.00000000e+00 0.00000000e+00 0.00000000e+00\n",
            "  0.00000000e+00 0.00000000e+00 0.00000000e+00 0.00000000e+00\n",
            "  0.00000000e+00 0.00000000e+00 0.00000000e+00 0.00000000e+00\n",
            "  0.00000000e+00 0.00000000e+00 0.00000000e+00 0.00000000e+00\n",
            "  0.00000000e+00 0.00000000e+00 0.00000000e+00 0.00000000e+00\n",
            "  0.00000000e+00 0.00000000e+00 0.00000000e+00 0.00000000e+00]\n",
            " [0.00000000e+00 0.00000000e+00 0.00000000e+00 0.00000000e+00\n",
            "  0.00000000e+00 0.00000000e+00 0.00000000e+00 0.00000000e+00\n",
            "  0.00000000e+00 0.00000000e+00 0.00000000e+00 0.00000000e+00\n",
            "  0.00000000e+00 0.00000000e+00 0.00000000e+00 0.00000000e+00\n",
            "  0.00000000e+00 0.00000000e+00 0.00000000e+00 0.00000000e+00\n",
            "  0.00000000e+00 0.00000000e+00 0.00000000e+00 0.00000000e+00\n",
            "  0.00000000e+00 0.00000000e+00 0.00000000e+00 0.00000000e+00]\n",
            " [0.00000000e+00 0.00000000e+00 0.00000000e+00 0.00000000e+00\n",
            "  0.00000000e+00 0.00000000e+00 0.00000000e+00 0.00000000e+00\n",
            "  0.00000000e+00 0.00000000e+00 0.00000000e+00 0.00000000e+00\n",
            "  0.00000000e+00 0.00000000e+00 0.00000000e+00 0.00000000e+00\n",
            "  0.00000000e+00 0.00000000e+00 0.00000000e+00 0.00000000e+00\n",
            "  0.00000000e+00 0.00000000e+00 0.00000000e+00 0.00000000e+00\n",
            "  0.00000000e+00 0.00000000e+00 0.00000000e+00 0.00000000e+00]]\n"
          ]
        }
      ],
      "source": [
        "print (X[0]) ## Se puede ver que todos los valores ahora estan normalizados"
      ]
    },
    {
      "cell_type": "markdown",
      "id": "cd2e8f7a",
      "metadata": {
        "id": "cd2e8f7a"
      },
      "source": [
        "# Redimensionamiento de la imagen para hacerla apta y aplicar la operación de Convolución"
      ]
    },
    {
      "cell_type": "code",
      "execution_count": 87,
      "id": "d9daed26",
      "metadata": {
        "id": "d9daed26",
        "outputId": "588511ce-289f-4c51-d73b-d70c1594d826",
        "colab": {
          "base_uri": "https://localhost:8080/"
        }
      },
      "outputs": [
        {
          "output_type": "execute_result",
          "data": {
            "text/plain": [
              "(48, 28, 28)"
            ]
          },
          "metadata": {},
          "execution_count": 87
        }
      ],
      "source": [
        "import numpy as np # pyp install numpy\n",
        "X = np.array(X)\n",
        "X.shape"
      ]
    },
    {
      "cell_type": "code",
      "execution_count": 88,
      "id": "5e67ed7e",
      "metadata": {
        "id": "5e67ed7e",
        "outputId": "71979399-dca9-484e-fbf6-350f0dad3d15",
        "colab": {
          "base_uri": "https://localhost:8080/"
        }
      },
      "outputs": [
        {
          "output_type": "stream",
          "name": "stdout",
          "text": [
            "Dimension de las muestras:  (48, 28, 28, 1)\n"
          ]
        }
      ],
      "source": [
        "TAM_IMG = 28\n",
        "X = np.array(X).reshape(-1, TAM_IMG, TAM_IMG, 1) # Incrementando 1 dimension para las operaciones kernel(Filtro)\n",
        "# x_test = np.array(x_test).reshape(-1, TAM_IMG, TAM_IMG, 1) # Incrementando 1 dimension para las operaciones kernel(Filtros)\n",
        "print(\"Dimension de las muestras: \", X.shape)\n",
        "# print(\"Dimension de las muestras de TESTEO: \", x_test.shape)"
      ]
    },
    {
      "cell_type": "markdown",
      "id": "cd62056e",
      "metadata": {
        "id": "cd62056e"
      },
      "source": [
        "# Mostramos algunas imagenes del set de imagenes"
      ]
    },
    {
      "cell_type": "code",
      "execution_count": 89,
      "id": "20274e37",
      "metadata": {
        "id": "20274e37",
        "outputId": "a7d24673-0e4b-4e3d-a286-1a2813b58fc1",
        "colab": {
          "base_uri": "https://localhost:8080/",
          "height": 381
        }
      },
      "outputs": [
        {
          "output_type": "display_data",
          "data": {
            "text/plain": [
              "<Figure size 1200x400 with 16 Axes>"
            ],
            "image/png": "[encoded data removed]"
          },
          "metadata": {}
        }
      ],
      "source": [
        "filas = 2\n",
        "columnas = 8\n",
        "num = filas * columnas\n",
        "imagenes = X[0:num]\n",
        "etiquetas = Y[0:num]\n",
        "fig, axes = plt.subplots(filas, columnas, figsize = (1.5 * columnas, 2 * filas))\n",
        "for i in range(num):\n",
        "     ax = axes[i // columnas, i % columnas]\n",
        "     ax.imshow(imagenes[i].reshape(28,28), cmap='gray_r')\n",
        "     ax.set_title('Label: {}'.format(np.argmax(etiquetas[i])))\n",
        "plt.tight_layout()\n",
        "plt.show()"
      ]
    },
    {
      "cell_type": "markdown",
      "id": "c855b735",
      "metadata": {
        "id": "c855b735"
      },
      "source": [
        "## Creando una Red Neuronal Profunda (Deep Neural Network)\n",
        "### Entrenamiento en 60000 muestras del conjunto de datos escritos a mano MNIST"
      ]
    },
    {
      "cell_type": "markdown",
      "source": [
        "Dividimos nuestro dataset"
      ],
      "metadata": {
        "id": "r0gLiCai0_iU"
      },
      "id": "r0gLiCai0_iU"
    },
    {
      "cell_type": "code",
      "source": [
        "x_train, x_test, y_train, y_test = train_test_split(X, Y, test_size=0.2, random_state=17, stratify=Y)"
      ],
      "metadata": {
        "id": "uToZ1Mqu04op"
      },
      "id": "uToZ1Mqu04op",
      "execution_count": 93,
      "outputs": []
    },
    {
      "cell_type": "code",
      "execution_count": 94,
      "id": "ce4c3131",
      "metadata": {
        "id": "ce4c3131"
      },
      "outputs": [],
      "source": [
        "from tensorflow.keras.models import Sequential\n",
        "from tensorflow.keras.layers import Dense, Dropout, Activation, Flatten, Conv2D, MaxPooling2D"
      ]
    },
    {
      "cell_type": "code",
      "execution_count": 95,
      "id": "22d56df9",
      "metadata": {
        "id": "22d56df9"
      },
      "outputs": [],
      "source": [
        "### Creando una nueva red neuronal\n",
        "modelo = tf.keras.models.Sequential([\n",
        "    tf.keras.layers.Conv2D(32, (3,3), activation='relu', input_shape=(28, 28, 1)),\n",
        "    tf.keras.layers.MaxPooling2D(2,2),\n",
        "\n",
        "    tf.keras.layers.Conv2D(64, (3,3), activation='relu'),\n",
        "    tf.keras.layers.MaxPooling2D(2,2),\n",
        "\n",
        "    tf.keras.layers.Dropout(0.5),\n",
        "    tf.keras.layers.Flatten(),\n",
        "    tf.keras.layers.Dense(100, activation='relu'),\n",
        "    tf.keras.layers.Dense(10, activation=\"softmax\")\n",
        "])\n",
        "\n",
        "#Compilación\n",
        "modelo.compile(optimizer='adam',\n",
        "              loss='categorical_crossentropy',\n",
        "              metrics=['accuracy'])"
      ]
    },
    {
      "cell_type": "markdown",
      "id": "312613a9",
      "metadata": {
        "id": "312613a9"
      },
      "source": [
        "# Vemos las caracteristias de nuestra Red Neuronal Convolucional"
      ]
    },
    {
      "cell_type": "code",
      "execution_count": 96,
      "id": "c422074f",
      "metadata": {
        "id": "c422074f",
        "outputId": "fd737baf-5419-46c2-c3c8-4f6e3df89007",
        "colab": {
          "base_uri": "https://localhost:8080/"
        }
      },
      "outputs": [
        {
          "output_type": "stream",
          "name": "stdout",
          "text": [
            "Model: \"sequential_2\"\n",
            "_________________________________________________________________\n",
            " Layer (type)                Output Shape              Param #   \n",
            "=================================================================\n",
            " conv2d_4 (Conv2D)           (None, 26, 26, 32)        320       \n",
            "                                                                 \n",
            " max_pooling2d_4 (MaxPoolin  (None, 13, 13, 32)        0         \n",
            " g2D)                                                            \n",
            "                                                                 \n",
            " conv2d_5 (Conv2D)           (None, 11, 11, 64)        18496     \n",
            "                                                                 \n",
            " max_pooling2d_5 (MaxPoolin  (None, 5, 5, 64)          0         \n",
            " g2D)                                                            \n",
            "                                                                 \n",
            " dropout_2 (Dropout)         (None, 5, 5, 64)          0         \n",
            "                                                                 \n",
            " flatten_2 (Flatten)         (None, 1600)              0         \n",
            "                                                                 \n",
            " dense_4 (Dense)             (None, 100)               160100    \n",
            "                                                                 \n",
            " dense_5 (Dense)             (None, 10)                1010      \n",
            "                                                                 \n",
            "=================================================================\n",
            "Total params: 179926 (702.84 KB)\n",
            "Trainable params: 179926 (702.84 KB)\n",
            "Non-trainable params: 0 (0.00 Byte)\n",
            "_________________________________________________________________\n"
          ]
        }
      ],
      "source": [
        "modelo.summary()"
      ]
    },
    {
      "cell_type": "markdown",
      "id": "0572b756",
      "metadata": {
        "id": "0572b756"
      },
      "source": [
        "# Entrenamos nuestro modelo con 20 etapas de procesamiento"
      ]
    },
    {
      "cell_type": "code",
      "execution_count": 124,
      "id": "e77ef825",
      "metadata": {
        "id": "e77ef825",
        "outputId": "c2d27993-9eca-48d2-8189-b8fde6d5daf3",
        "colab": {
          "base_uri": "https://localhost:8080/"
        }
      },
      "outputs": [
        {
          "output_type": "stream",
          "name": "stdout",
          "text": [
            "Entrenando modelo...\n",
            "Epoch 1/20\n",
            "8/8 [==============================] - 0s 23ms/step - loss: 2.2645 - accuracy: 0.1591 - val_loss: 2.2782 - val_accuracy: 0.1667\n",
            "Epoch 2/20\n",
            "8/8 [==============================] - 0s 16ms/step - loss: 2.2258 - accuracy: 0.1818 - val_loss: 2.2793 - val_accuracy: 0.1667\n",
            "Epoch 3/20\n",
            "8/8 [==============================] - 0s 15ms/step - loss: 2.2681 - accuracy: 0.1818 - val_loss: 2.2767 - val_accuracy: 0.1667\n",
            "Epoch 4/20\n",
            "8/8 [==============================] - 0s 13ms/step - loss: 2.2444 - accuracy: 0.2045 - val_loss: 2.2768 - val_accuracy: 0.1667\n",
            "Epoch 5/20\n",
            "8/8 [==============================] - 0s 14ms/step - loss: 2.2445 - accuracy: 0.1136 - val_loss: 2.2762 - val_accuracy: 0.1667\n",
            "Epoch 6/20\n",
            "8/8 [==============================] - 0s 14ms/step - loss: 2.2375 - accuracy: 0.0909 - val_loss: 2.2771 - val_accuracy: 0.1667\n",
            "Epoch 7/20\n",
            "8/8 [==============================] - 1s 139ms/step - loss: 2.2397 - accuracy: 0.0750 - val_loss: 2.2792 - val_accuracy: 0.1667\n",
            "Epoch 8/20\n",
            "8/8 [==============================] - 1s 128ms/step - loss: 2.2562 - accuracy: 0.1364 - val_loss: 2.2804 - val_accuracy: 0.1667\n",
            "Epoch 9/20\n",
            "8/8 [==============================] - 0s 47ms/step - loss: 2.2476 - accuracy: 0.1136 - val_loss: 2.2804 - val_accuracy: 0.1667\n",
            "Epoch 10/20\n",
            "8/8 [==============================] - 0s 16ms/step - loss: 2.2108 - accuracy: 0.1818 - val_loss: 2.2802 - val_accuracy: 0.1667\n",
            "Epoch 11/20\n",
            "8/8 [==============================] - 0s 15ms/step - loss: 2.2912 - accuracy: 0.0682 - val_loss: 2.2791 - val_accuracy: 0.1667\n",
            "Epoch 12/20\n",
            "8/8 [==============================] - 0s 20ms/step - loss: 2.2300 - accuracy: 0.1591 - val_loss: 2.2798 - val_accuracy: 0.1667\n",
            "Epoch 13/20\n",
            "8/8 [==============================] - 0s 12ms/step - loss: 2.2459 - accuracy: 0.1364 - val_loss: 2.2799 - val_accuracy: 0.1667\n",
            "Epoch 14/20\n",
            "8/8 [==============================] - 0s 17ms/step - loss: 2.2418 - accuracy: 0.1750 - val_loss: 2.2806 - val_accuracy: 0.1667\n",
            "Epoch 15/20\n",
            "8/8 [==============================] - 0s 15ms/step - loss: 2.2478 - accuracy: 0.1591 - val_loss: 2.2829 - val_accuracy: 0.1667\n",
            "Epoch 16/20\n",
            "8/8 [==============================] - 0s 16ms/step - loss: 2.2437 - accuracy: 0.1818 - val_loss: 2.2850 - val_accuracy: 0.1667\n",
            "Epoch 17/20\n",
            "8/8 [==============================] - 0s 17ms/step - loss: 2.2638 - accuracy: 0.0909 - val_loss: 2.2873 - val_accuracy: 0.1667\n",
            "Epoch 18/20\n",
            "1/8 [==>...........................] - ETA: 0s - loss: 2.1532 - accuracy: 0.1667"
          ]
        },
        {
          "output_type": "stream",
          "name": "stderr",
          "text": [
            "WARNING:tensorflow:Your input ran out of data; interrupting training. Make sure that your dataset or generator can generate at least `steps_per_epoch * epochs` batches (in this case, 160 batches). You may need to use the repeat() function when building your dataset.\n"
          ]
        },
        {
          "output_type": "stream",
          "name": "stdout",
          "text": [
            "\b\b\b\b\b\b\b\b\b\b\b\b\b\b\b\b\b\b\b\b\b\b\b\b\b\b\b\b\b\b\b\b\b\b\b\b\b\b\b\b\b\b\b\b\b\b\b\b\b\b\b\b\b\b\b\b\b\b\b\b\b\b\b\b\b\b\b\b\b\b\b\b\b\b\b\b\b\b\b\b\r8/8 [==============================] - 0s 13ms/step - loss: 2.1958 - accuracy: 0.2000 - val_loss: 2.2875 - val_accuracy: 0.1667\n",
            "Modelo entrenado!\n"
          ]
        }
      ],
      "source": [
        "TAMANO_LOTE = 6\n",
        "print(\"Entrenando modelo...\");\n",
        "etapas = 20\n",
        "history = modelo.fit(\n",
        "    x_train, y_train,\n",
        "    epochs = etapas,\n",
        "    batch_size=TAMANO_LOTE,\n",
        "    validation_data=(x_test, y_test),\n",
        "    steps_per_epoch=int(np.ceil(48 / float(TAMANO_LOTE))),\n",
        "    validation_steps=int(np.ceil(4 / float(TAMANO_LOTE)))\n",
        ")\n",
        "\n",
        "print(\"Modelo entrenado!\");"
      ]
    },
    {
      "cell_type": "markdown",
      "id": "82ec540a",
      "metadata": {
        "id": "82ec540a"
      },
      "source": [
        "# Guardamos nuestras predicciones de la data de Testeo"
      ]
    },
    {
      "cell_type": "code",
      "execution_count": 99,
      "id": "1846954d",
      "metadata": {
        "id": "1846954d",
        "outputId": "5dd0f6db-5048-44ec-961a-456cd390cd7b",
        "colab": {
          "base_uri": "https://localhost:8080/"
        }
      },
      "outputs": [
        {
          "output_type": "stream",
          "name": "stdout",
          "text": [
            "1/1 [==============================] - 0s 117ms/step\n"
          ]
        }
      ],
      "source": [
        "predicciones = modelo.predict([x_test])"
      ]
    },
    {
      "cell_type": "markdown",
      "id": "b9b76d4a",
      "metadata": {
        "id": "b9b76d4a"
      },
      "source": [
        "# Hacemos una pequeña predicción de un elemento de la data y comprobamos"
      ]
    },
    {
      "cell_type": "code",
      "execution_count": 120,
      "id": "20412ccd",
      "metadata": {
        "id": "20412ccd",
        "outputId": "30cceda6-e5de-43c3-f8b9-db11e18ec4dc",
        "colab": {
          "base_uri": "https://localhost:8080/",
          "height": 465
        }
      },
      "outputs": [
        {
          "output_type": "stream",
          "name": "stdout",
          "text": [
            "8\n"
          ]
        },
        {
          "output_type": "execute_result",
          "data": {
            "text/plain": [
              "<matplotlib.image.AxesImage at 0x7a840bb083a0>"
            ]
          },
          "metadata": {},
          "execution_count": 120
        },
        {
          "output_type": "display_data",
          "data": {
            "text/plain": [
              "<Figure size 640x480 with 1 Axes>"
            ],
            "image/png": "[encoded data removed]"
          },
          "metadata": {}
        }
      ],
      "source": [
        "print(np.argmax(predicciones[4]))\n",
        "plt.imshow(x_test[4], cmap = plt.cm.binary)"
      ]
    },
    {
      "cell_type": "markdown",
      "id": "ce27a2f6",
      "metadata": {
        "id": "ce27a2f6"
      },
      "source": [
        "# Guardamos nuestro modelo entrenado en el formato óptimo .h5"
      ]
    },
    {
      "cell_type": "code",
      "execution_count": null,
      "id": "c1ff875f",
      "metadata": {
        "id": "c1ff875f"
      },
      "outputs": [],
      "source": [
        "modelo.save('numeros.h5')"
      ]
    },
    {
      "cell_type": "markdown",
      "id": "5b68d40a",
      "metadata": {
        "id": "5b68d40a"
      },
      "source": [
        "# Comprobamos que se guardó bien en nuestro ordenador"
      ]
    },
    {
      "cell_type": "code",
      "execution_count": null,
      "id": "dc1e92dc",
      "metadata": {
        "id": "dc1e92dc",
        "outputId": "4a40c49a-5f2d-4503-9de3-ff691afacb44"
      },
      "outputs": [
        {
          "name": "stdout",
          "output_type": "stream",
          "text": [
            " El volumen de la unidad C es Windows-SSD\n",
            " El n£mero de serie del volumen es: 0C4A-0296\n",
            "\n",
            " Directorio de C:\\Users\\ANGELLO\\Desktop\\Handwritting\n",
            "\n",
            "14/07/2022  19:39    <DIR>          .\n",
            "14/07/2022  19:39    <DIR>          ..\n",
            "10/07/2022  00:23    <DIR>          .ipynb_checkpoints\n",
            "14/07/2022  15:25    <DIR>          carpeta_salida\n",
            "14/07/2022  19:41         2,206,352 numeros.h5\n",
            "14/07/2022  19:39           127,129 Untitled.ipynb\n",
            "               2 archivos      2,333,481 bytes\n",
            "               4 dirs  117,977,460,736 bytes libres\n"
          ]
        }
      ],
      "source": [
        "!dir"
      ]
    },
    {
      "cell_type": "markdown",
      "id": "85114740",
      "metadata": {
        "id": "85114740"
      },
      "source": [
        "# Instalamos la libreria Tensorflowjs para exportar nuestro modelo .h5 en un formato .json"
      ]
    },
    {
      "cell_type": "code",
      "execution_count": null,
      "id": "030bb112",
      "metadata": {
        "id": "030bb112",
        "outputId": "29c4d3dc-9ef4-4e6c-9d58-ca07ef446a48"
      },
      "outputs": [
        {
          "name": "stdout",
          "output_type": "stream",
          "text": [
            "Requirement already satisfied: tensorflowjs in c:\\users\\angello\\anaconda3\\lib\\site-packages (3.18.0)\n",
            "Requirement already satisfied: tensorflow-hub<0.13,>=0.7.0 in c:\\users\\angello\\anaconda3\\lib\\site-packages (from tensorflowjs) (0.12.0)\n",
            "Requirement already satisfied: six<2,>=1.12.0 in c:\\users\\angello\\anaconda3\\lib\\site-packages (from tensorflowjs) (1.16.0)\n",
            "Requirement already satisfied: packaging~=20.9 in c:\\users\\angello\\anaconda3\\lib\\site-packages (from tensorflowjs) (20.9)\n",
            "Requirement already satisfied: tensorflow<3,>=2.1.0 in c:\\users\\angello\\anaconda3\\lib\\site-packages (from tensorflowjs) (2.9.1)\n",
            "Requirement already satisfied: pyparsing>=2.0.2 in c:\\users\\angello\\anaconda3\\lib\\site-packages (from packaging~=20.9->tensorflowjs) (3.0.4)\n",
            "Requirement already satisfied: typing-extensions>=3.6.6 in c:\\users\\angello\\anaconda3\\lib\\site-packages (from tensorflow<3,>=2.1.0->tensorflowjs) (4.1.1)\n",
            "Requirement already satisfied: termcolor>=1.1.0 in c:\\users\\angello\\anaconda3\\lib\\site-packages (from tensorflow<3,>=2.1.0->tensorflowjs) (1.1.0)\n",
            "Requirement already satisfied: opt-einsum>=2.3.2 in c:\\users\\angello\\anaconda3\\lib\\site-packages (from tensorflow<3,>=2.1.0->tensorflowjs) (3.3.0)\n",
            "Requirement already satisfied: h5py>=2.9.0 in c:\\users\\angello\\anaconda3\\lib\\site-packages (from tensorflow<3,>=2.1.0->tensorflowjs) (3.6.0)\n",
            "Requirement already satisfied: tensorflow-estimator<2.10.0,>=2.9.0rc0 in c:\\users\\angello\\anaconda3\\lib\\site-packages (from tensorflow<3,>=2.1.0->tensorflowjs) (2.9.0)\n",
            "Requirement already satisfied: grpcio<2.0,>=1.24.3 in c:\\users\\angello\\anaconda3\\lib\\site-packages (from tensorflow<3,>=2.1.0->tensorflowjs) (1.42.0)\n",
            "Requirement already satisfied: tensorflow-io-gcs-filesystem>=0.23.1 in c:\\users\\angello\\anaconda3\\lib\\site-packages (from tensorflow<3,>=2.1.0->tensorflowjs) (0.26.0)\n",
            "Requirement already satisfied: libclang>=13.0.0 in c:\\users\\angello\\anaconda3\\lib\\site-packages (from tensorflow<3,>=2.1.0->tensorflowjs) (14.0.1)\n",
            "Requirement already satisfied: wrapt>=1.11.0 in c:\\users\\angello\\anaconda3\\lib\\site-packages (from tensorflow<3,>=2.1.0->tensorflowjs) (1.12.1)\n",
            "Requirement already satisfied: astunparse>=1.6.0 in c:\\users\\angello\\anaconda3\\lib\\site-packages (from tensorflow<3,>=2.1.0->tensorflowjs) (1.6.3)\n",
            "Requirement already satisfied: keras-preprocessing>=1.1.1 in c:\\users\\angello\\anaconda3\\lib\\site-packages (from tensorflow<3,>=2.1.0->tensorflowjs) (1.1.2)\n",
            "Requirement already satisfied: numpy>=1.20 in c:\\users\\angello\\anaconda3\\lib\\site-packages (from tensorflow<3,>=2.1.0->tensorflowjs) (1.21.5)\n",
            "Requirement already satisfied: tensorboard<2.10,>=2.9 in c:\\users\\angello\\anaconda3\\lib\\site-packages (from tensorflow<3,>=2.1.0->tensorflowjs) (2.9.1)\n",
            "Requirement already satisfied: protobuf<3.20,>=3.9.2 in c:\\users\\angello\\anaconda3\\lib\\site-packages (from tensorflow<3,>=2.1.0->tensorflowjs) (3.19.1)\n",
            "Requirement already satisfied: setuptools in c:\\users\\angello\\anaconda3\\lib\\site-packages (from tensorflow<3,>=2.1.0->tensorflowjs) (61.2.0)\n",
            "Requirement already satisfied: google-pasta>=0.1.1 in c:\\users\\angello\\anaconda3\\lib\\site-packages (from tensorflow<3,>=2.1.0->tensorflowjs) (0.2.0)\n",
            "Requirement already satisfied: gast<=0.4.0,>=0.2.1 in c:\\users\\angello\\anaconda3\\lib\\site-packages (from tensorflow<3,>=2.1.0->tensorflowjs) (0.4.0)\n",
            "Requirement already satisfied: keras<2.10.0,>=2.9.0rc0 in c:\\users\\angello\\anaconda3\\lib\\site-packages (from tensorflow<3,>=2.1.0->tensorflowjs) (2.9.0)\n",
            "Requirement already satisfied: absl-py>=1.0.0 in c:\\users\\angello\\anaconda3\\lib\\site-packages (from tensorflow<3,>=2.1.0->tensorflowjs) (1.1.0)\n",
            "Requirement already satisfied: flatbuffers<2,>=1.12 in c:\\users\\angello\\anaconda3\\lib\\site-packages (from tensorflow<3,>=2.1.0->tensorflowjs) (1.12)\n",
            "Requirement already satisfied: wheel<1.0,>=0.23.0 in c:\\users\\angello\\anaconda3\\lib\\site-packages (from astunparse>=1.6.0->tensorflow<3,>=2.1.0->tensorflowjs) (0.37.1)\n",
            "Requirement already satisfied: markdown>=2.6.8 in c:\\users\\angello\\anaconda3\\lib\\site-packages (from tensorboard<2.10,>=2.9->tensorflow<3,>=2.1.0->tensorflowjs) (3.3.4)\n",
            "Requirement already satisfied: tensorboard-plugin-wit>=1.6.0 in c:\\users\\angello\\anaconda3\\lib\\site-packages (from tensorboard<2.10,>=2.9->tensorflow<3,>=2.1.0->tensorflowjs) (1.8.1)\n",
            "Requirement already satisfied: requests<3,>=2.21.0 in c:\\users\\angello\\anaconda3\\lib\\site-packages (from tensorboard<2.10,>=2.9->tensorflow<3,>=2.1.0->tensorflowjs) (2.27.1)\n",
            "Requirement already satisfied: google-auth-oauthlib<0.5,>=0.4.1 in c:\\users\\angello\\anaconda3\\lib\\site-packages (from tensorboard<2.10,>=2.9->tensorflow<3,>=2.1.0->tensorflowjs) (0.4.6)\n",
            "Requirement already satisfied: google-auth<3,>=1.6.3 in c:\\users\\angello\\anaconda3\\lib\\site-packages (from tensorboard<2.10,>=2.9->tensorflow<3,>=2.1.0->tensorflowjs) (1.33.0)\n",
            "Requirement already satisfied: werkzeug>=1.0.1 in c:\\users\\angello\\anaconda3\\lib\\site-packages (from tensorboard<2.10,>=2.9->tensorflow<3,>=2.1.0->tensorflowjs) (2.0.3)\n",
            "Requirement already satisfied: tensorboard-data-server<0.7.0,>=0.6.0 in c:\\users\\angello\\anaconda3\\lib\\site-packages (from tensorboard<2.10,>=2.9->tensorflow<3,>=2.1.0->tensorflowjs) (0.6.1)\n",
            "Requirement already satisfied: cachetools<5.0,>=2.0.0 in c:\\users\\angello\\anaconda3\\lib\\site-packages (from google-auth<3,>=1.6.3->tensorboard<2.10,>=2.9->tensorflow<3,>=2.1.0->tensorflowjs) (4.2.2)\n",
            "Requirement already satisfied: pyasn1-modules>=0.2.1 in c:\\users\\angello\\anaconda3\\lib\\site-packages (from google-auth<3,>=1.6.3->tensorboard<2.10,>=2.9->tensorflow<3,>=2.1.0->tensorflowjs) (0.2.8)\n",
            "Requirement already satisfied: rsa<5,>=3.1.4 in c:\\users\\angello\\anaconda3\\lib\\site-packages (from google-auth<3,>=1.6.3->tensorboard<2.10,>=2.9->tensorflow<3,>=2.1.0->tensorflowjs) (4.7.2)\n",
            "Requirement already satisfied: requests-oauthlib>=0.7.0 in c:\\users\\angello\\anaconda3\\lib\\site-packages (from google-auth-oauthlib<0.5,>=0.4.1->tensorboard<2.10,>=2.9->tensorflow<3,>=2.1.0->tensorflowjs) (1.3.1)\n",
            "Requirement already satisfied: pyasn1<0.5.0,>=0.4.6 in c:\\users\\angello\\anaconda3\\lib\\site-packages (from pyasn1-modules>=0.2.1->google-auth<3,>=1.6.3->tensorboard<2.10,>=2.9->tensorflow<3,>=2.1.0->tensorflowjs) (0.4.8)\n",
            "Requirement already satisfied: urllib3<1.27,>=1.21.1 in c:\\users\\angello\\anaconda3\\lib\\site-packages (from requests<3,>=2.21.0->tensorboard<2.10,>=2.9->tensorflow<3,>=2.1.0->tensorflowjs) (1.26.9)\n",
            "Requirement already satisfied: charset-normalizer~=2.0.0 in c:\\users\\angello\\anaconda3\\lib\\site-packages (from requests<3,>=2.21.0->tensorboard<2.10,>=2.9->tensorflow<3,>=2.1.0->tensorflowjs) (2.0.4)\n",
            "Requirement already satisfied: certifi>=2017.4.17 in c:\\users\\angello\\anaconda3\\lib\\site-packages (from requests<3,>=2.21.0->tensorboard<2.10,>=2.9->tensorflow<3,>=2.1.0->tensorflowjs) (2021.10.8)\n",
            "Requirement already satisfied: idna<4,>=2.5 in c:\\users\\angello\\anaconda3\\lib\\site-packages (from requests<3,>=2.21.0->tensorboard<2.10,>=2.9->tensorflow<3,>=2.1.0->tensorflowjs) (3.3)\n",
            "Requirement already satisfied: oauthlib>=3.0.0 in c:\\users\\angello\\anaconda3\\lib\\site-packages (from requests-oauthlib>=0.7.0->google-auth-oauthlib<0.5,>=0.4.1->tensorboard<2.10,>=2.9->tensorflow<3,>=2.1.0->tensorflowjs) (3.2.0)\n"
          ]
        }
      ],
      "source": [
        "!pip3 install tensorflowjs"
      ]
    },
    {
      "cell_type": "markdown",
      "id": "f565bc43",
      "metadata": {
        "id": "f565bc43"
      },
      "source": [
        "# Convertimos nuestro modelo en formato .json y lo guardamos en nuestro ordenador"
      ]
    },
    {
      "cell_type": "code",
      "execution_count": null,
      "id": "bfdee79f",
      "metadata": {
        "id": "bfdee79f",
        "outputId": "979784b6-e104-4565-db50-0f4b94c42d26"
      },
      "outputs": [
        {
          "name": "stderr",
          "output_type": "stream",
          "text": [
            "2022-07-14 20:20:03.187814: W tensorflow/stream_executor/platform/default/dso_loader.cc:64] Could not load dynamic library 'cudart64_110.dll'; dlerror: cudart64_110.dll not found\n",
            "2022-07-14 20:20:03.188164: I tensorflow/stream_executor/cuda/cudart_stub.cc:29] Ignore above cudart dlerror if you do not have a GPU set up on your machine.\n"
          ]
        }
      ],
      "source": [
        "!tensorflowjs_converter --input_format keras numeros.h5 carpeta_salida"
      ]
    },
    {
      "cell_type": "markdown",
      "id": "1f18a5f3",
      "metadata": {
        "id": "1f18a5f3"
      },
      "source": [
        "# Comprobamos que se realizó con éxito nuestra conversión y tenemos todos los archivos necesarios para importar nuestro modelo a nuestro servidor local"
      ]
    },
    {
      "cell_type": "code",
      "execution_count": null,
      "id": "487c1fa1",
      "metadata": {
        "id": "487c1fa1",
        "outputId": "4a491b55-4f49-4c63-9d2b-7f81fc08d7e2"
      },
      "outputs": [
        {
          "name": "stdout",
          "output_type": "stream",
          "text": [
            " El volumen de la unidad C es Windows-SSD\n",
            " El n£mero de serie del volumen es: 0C4A-0296\n",
            "\n",
            " Directorio de C:\\Users\\ANGELLO\\Desktop\\Handwritting\\carpeta_salida\n",
            "\n",
            "14/07/2022  15:25    <DIR>          .\n",
            "14/07/2022  15:25    <DIR>          ..\n",
            "14/07/2022  14:58               463 drawing.js\n",
            "14/07/2022  14:58           307,775 fabric.min.js\n",
            "14/07/2022  19:41           719,704 group1-shard1of1.bin\n",
            "14/07/2022  18:02             9,171 index.html\n",
            "14/07/2022  19:41             4,207 model.json\n",
            "               5 archivos      1,041,320 bytes\n",
            "               2 dirs  117,977,251,840 bytes libres\n"
          ]
        }
      ],
      "source": [
        "!dir carpeta_salida"
      ]
    }
  ],
  "metadata": {
    "kernelspec": {
      "display_name": "Python 3 (ipykernel)",
      "language": "python",
      "name": "python3"
    },
    "language_info": {
      "codemirror_mode": {
        "name": "ipython",
        "version": 3
      },
      "file_extension": ".py",
      "mimetype": "text/x-python",
      "name": "python",
      "nbconvert_exporter": "python",
      "pygments_lexer": "ipython3",
      "version": "3.9.12"
    },
    "vscode": {
      "interpreter": {
        "hash": "be914e7513e46b74d1fe728813d92c7b0d88cc3ea1530fbc101cfcf259cce63f"
      }
    },
    "colab": {
      "provenance": []
    }
  },
  "nbformat": 4,
  "nbformat_minor": 5
}