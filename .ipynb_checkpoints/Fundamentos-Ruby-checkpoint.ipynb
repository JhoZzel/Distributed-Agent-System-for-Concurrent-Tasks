{
 "cells": [
  {
   "cell_type": "markdown",
   "id": "d9b8493f",
   "metadata": {},
   "source": [
    "#### <u>Ejercicios</u>\n",
    "\n",
    "**Ejercicio 01:** Dados los siguientes fragmentos de código Ruby, determina el resultado. Si puedes, encuentra un compañero, discute y luego valida tus soluciones escribiendo el código en un intérprete. Debe alternar quién escribe y quién explica el resultado.\n"
   ]
  },
  {
   "cell_type": "markdown",
   "id": "a9eb6dbe",
   "metadata": {},
   "source": [
    "```\n",
    "fruta1 = \"cereza\"\n",
    "fruta = \"pltano\"\n",
    "puts fruta1.reverse\n",
    "puts fruta2.reverse!\n",
    "fruta1 + \" \" + fruta2\n",
    "```\n"
   ]
  },
  {
   "cell_type": "markdown",
   "id": "19d9cff7",
   "metadata": {},
   "source": [
    "```\n",
    "class Cadena\n",
    "  @@hola = \"hola alli!\"\n",
    "  def hola; \"mundo\"; end\n",
    "end\n",
    "\"smoothie\".hola\n",
    "```"
   ]
  },
  {
   "cell_type": "markdown",
   "id": "59c37f1b",
   "metadata": {},
   "source": [
    "```\n",
    "class Fruit\n",
    "  def method_missing(meth)\n",
    "    if meth.to_s =~ \\/^tastes_(.+)\\?\\$\\/\n",
    "      \"Yup,that fruit tastes #{\\$1}!\"\n",
    "    else\n",
    "      super\n",
    "    end\n",
    "  end\n",
    "end\n",
    "\n",
    "orange = Fruit.new\n",
    "orange.bitter?\n",
    "orange.tastes_sour?\n",
    "orange.tastes_sweet?\n",
    "```"
   ]
  },
  {
   "cell_type": "code",
   "execution_count": 7,
   "id": "2547f99b",
   "metadata": {},
   "outputs": [
    {
     "name": "stdout",
     "output_type": "stream",
     "text": [
      "azerec\n",
      "onatalp\n",
      "fruta 1 => cereza\n",
      "fruta 2 => onatalp\n"
     ]
    }
   ],
   "source": [
    "fruta1 = \"cereza\"\n",
    "fruta2 = \"platano\"\n",
    "puts fruta1.reverse\n",
    "puts fruta2.reverse!\n",
    "puts \"fruta 1 => \" + fruta1 \n",
    "puts \"fruta 2 => \" + fruta2"
   ]
  },
  {
   "cell_type": "raw",
   "id": "8fddacf6-6a3c-4a06-8580-9c30fa3a8dbb",
   "metadata": {},
   "source": [
    "Se observa que ejecutar \"fruta1.reverse\" simplementa retorna una copia de la cadena invertida, mientras que al ejecutar \"fruta2.reverse!\" ademas de invertirla también modificará el string original."
   ]
  },
  {
   "cell_type": "code",
   "execution_count": 4,
   "id": "c7111447-d18b-45aa-97c1-b72f14e3e0f9",
   "metadata": {},
   "outputs": [
    {
     "data": {
      "text/plain": [
       "\"mundo\""
      ]
     },
     "execution_count": 4,
     "metadata": {},
     "output_type": "execute_result"
    }
   ],
   "source": [
    "class Cadena\n",
    "    @@hola = \"hola alli!\"\n",
    "    def hola; \"mundo\"; end\n",
    "end\n",
    "\n",
    "smoothie = Cadena.new\n",
    "smoothie.hola"
   ]
  },
  {
   "cell_type": "raw",
   "id": "7651b841-c834-4230-86b5-cab8a36c8e2f",
   "metadata": {},
   "source": [
    "La clase Cadena incluye tanto una variable de clase llamada hola como un método llamado hola. Asimismo, cuando creamos una instancia llamada smoothie de la clase Cadena y luego llamamos al método hola en esa instancia, el resultado será el mismo que si hubiéramos llamado directamente al método."
   ]
  },
  {
   "cell_type": "code",
   "execution_count": 5,
   "id": "6152929a-fff8-4749-a3c8-c865a799db19",
   "metadata": {},
   "outputs": [
    {
     "data": {
      "text/plain": [
       "\"Yup, that fruit tastes sour!\""
      ]
     },
     "execution_count": 5,
     "metadata": {},
     "output_type": "execute_result"
    }
   ],
   "source": [
    "class Fruit\n",
    "    def method_missing(meth)\n",
    "        if meth.to_s =~ /^tastes_(.+)\\?$/\n",
    "            \"Yup, that fruit tastes #{$1}!\"\n",
    "        else\n",
    "            super\n",
    "        end\n",
    "    end\n",
    "end\n",
    "\n",
    "orange = Fruit.new\n",
    "# orange.bitter?\n",
    "orange.tastes_sour?\n",
    "# orange.tastes_sweet?"
   ]
  },
  {
   "cell_type": "raw",
   "id": "a9bae7d3-dcbd-4fec-ba8e-a2a3d99c9144",
   "metadata": {},
   "source": [
    "El método method_missing recibe un string y la compara con una expresión regular que busca patrones que comiencen con \"tastes_\" y tengan al menos un carácter adicional. Si no encuentra una coincidencia con este patrón, ejecuta el método super. Sin embargo, si encuentra una coincidencia, genera y devuelve un mensaje específico."
   ]
  },
  {
   "cell_type": "markdown",
   "id": "3e9def5d",
   "metadata": {},
   "source": [
    "**Ejercicio 02:** En la siguiente parte, intenta reescribir cada uno de los siguientes métodos en una línea (corta). Una persona debe ser el escritor, mientras la otra explica qué escribir. Intenta alternar roles entre los dos ejercicios."
   ]
  },
  {
   "cell_type": "markdown",
   "id": "6dfa453e",
   "metadata": {},
   "source": [
    "```\n",
    "def foo(arr)\n",
    "  res = 0\n",
    "  arr.each do |n|\n",
    "    res += n\n",
    "  end\n",
    "  res\n",
    "end\n",
    "```"
   ]
  },
  {
   "cell_type": "markdown",
   "id": "4c00f192",
   "metadata": {},
   "source": [
    "```\n",
    "def bar(hsh)\n",
    "  res = {}\n",
    "  hsh.each do |k, v|\n",
    "    if v > 100\n",
    "      res[k] = v\n",
    "    end\n",
    "  end\n",
    "  res\n",
    "end\n",
    "```"
   ]
  },
  {
   "cell_type": "code",
   "execution_count": 1,
   "id": "0d6ade58",
   "metadata": {
    "scrolled": true
   },
   "outputs": [
    {
     "name": "stdout",
     "output_type": "stream",
     "text": [
      "142\n",
      "[\"H\", \"O\", \"L\", \"A\"]"
     ]
    }
   ],
   "source": [
    "arr = [3,4,2,11,21,101]\n",
    "hash = { 'U' => 32, 'H' => 1001, 'Z' => 1, 'O' => 301, 'C' => 99, 'L' => 201, 'A' => 111, 'X' => 12 }\n",
    "# foo(arr) => suma de todos los elementoss\n",
    "puts arr.reduce('+') \n",
    "# bar(hsh) => array de LLAVES cuyas CLAVES son mayores q 100\n",
    "print hash.select {|k,v| v > 100}.keys\n"
   ]
  },
  {
   "cell_type": "markdown",
   "id": "dd1e64d2",
   "metadata": {},
   "source": [
    "**Ejercicio 03:** En esta parte, crea tus propios iteradores con la declaración yield que devuelvan los siguientes elementos. Nuevamente, alterna roles entre los dos ejercicios.\n",
    "\n",
    "**(i)** Escriba una función fib(n) que produzca los primeros n números de Fibonacci en secuencia y devuelva nil\n",
    "\n",
    "```\n",
    ">> fib(4) { |x| puts x }\n",
    "1\n",
    "1\n",
    "2\n",
    "3\n",
    "nil\n",
    "```"
   ]
  },
  {
   "cell_type": "code",
   "execution_count": 2,
   "id": "16628111",
   "metadata": {},
   "outputs": [
    {
     "name": "stdout",
     "output_type": "stream",
     "text": [
      "1\n",
      "1\n",
      "2\n",
      "3\n",
      "nil\n",
      "\n"
     ]
    }
   ],
   "source": [
    "def fib(n)\n",
    "    a, b = 1, 1\n",
    "    n.times do\n",
    "        yield a\n",
    "        a, b = b, a + b\n",
    "    end\n",
    "    puts \"nil\"\n",
    "    yield nil\n",
    "end\n",
    "\n",
    "fib(4) { |x| puts x }\n"
   ]
  },
  {
   "cell_type": "markdown",
   "id": "b67699ad",
   "metadata": {},
   "source": [
    "**(ii)** Escribe la función Array#odds que produce los elementos indexados impares de un arreglo  en secuencia y devuelve nil.\n",
    "\n",
    "```\n",
    ">> [10, 30, 50, 70, 90].odds do |n|\n",
    "..\n",
    "puts n\n",
    ".. end\n",
    "30\n",
    "70\n",
    "nil\n",
    "```"
   ]
  },
  {
   "cell_type": "code",
   "execution_count": 24,
   "id": "276123ed",
   "metadata": {},
   "outputs": [
    {
     "ename": "NoMethodError",
     "evalue": "undefined method `odds' for [10, 30, 50, 70, 90]:Array",
     "output_type": "error",
     "traceback": [
      "\u001b[31mNoMethodError\u001b[0m: undefined method `odds' for [10, 30, 50, 70, 90]:Array",
      "(irb):9:in `<main>'"
     ]
    }
   ],
   "source": [
    "class Array\n",
    "  def odds\n",
    "    each_with_index do |element, index|\n",
    "      yield element if index.odd?\n",
    "    end\n",
    "    nil\n",
    "  end\n",
    "end\n",
    "\n",
    "[10, 30, 50, 70, 90].odds do |n|\n",
    "  puts n\n",
    "end\n"
   ]
  },
  {
   "cell_type": "markdown",
   "id": "0e29dd2f",
   "metadata": {},
   "source": [
    "**Ejercicio 04**: Escribe de 1 a 3 líneas de código Ruby para cada una de las siguientes tareas. No utilices ningún bucle explícito (for, each, while, etc.): utiliza sólo los operadores de colección, la mayoría de los cuales están definidos en el módulo `Enumerable`.\n",
    "\n",
    "(Una pista adicional: la palabra clave es `compact`. Busca la documentación en línea si no estás familiarizado con ella!)\n",
    "\n",
    "Suponiendo que la variable `palabras` es un arreglo en la que cada elemento es una cadena (que puede estar vacía) o nil, escriba una pequeña cantidad de código Ruby que devolverá:\n",
    "\n",
    "- Una copia de `palabras` con elementos `nil` eliminados.\n",
    "- Una copia de `palabras` con elementos de cadena vacíos y `nil` eliminados.\n",
    "\n",
    "- Sólo aquellas `palabras` que tengan exactamente 3 letras.\n",
    "- Sólo aquellas `palabras` que contengan al menos una vocal (a, e, i, o, u)\n",
    "- Una cadena que es la concatenación de `palabras`."
   ]
  },
  {
   "cell_type": "code",
   "execution_count": 7,
   "id": "415bf9bf",
   "metadata": {},
   "outputs": [
    {
     "name": "stdout",
     "output_type": "stream",
     "text": [
      "1: [\"Cat\", \"Bat\", \"Dog\", \"\", \"\", \"duck\", \"PANDA\", \"\"]\n",
      "2: [\"Cat\", \"Bat\", \"Dog\", \"duck\", \"PANDA\"]\n",
      "3: [\"Cat\", \"Bat\", \"Dog\"]\n",
      "4: [\"Cat\", \"Bat\", \"Dog\", \"duck\"]\n",
      "5: CataBataDogaaaduckaPANDAa\n"
     ]
    }
   ],
   "source": [
    "palabras = [\"Cat\", \"Bat\", \"Dog\", nil, \"\", nil, \"\", \"duck\", \"PANDA\", nil, \"\"]\n",
    "ans1 = palabras.compact\n",
    "ans2 = ans1.reject {|cadena| cadena.empty?}\n",
    "ans3 = ans1.select {|cadena| cadena.length == 3}\n",
    "ans4 = ans1.select {|cadena| cadena =~ /[aeiou]/}\n",
    "ans5 = ans1.join(\"\")\n",
    "\n",
    "puts \"1: #{ans1}\"\n",
    "puts \"2: #{ans2}\"\n",
    "puts \"3: #{ans3}\"\n",
    "puts \"4: #{ans4}\"\n",
    "puts \"5: #{ans5}\""
   ]
  }
 ],
 "metadata": {
  "kernelspec": {
   "display_name": "Ruby 3.0.2",
   "language": "ruby",
   "name": "ruby"
  },
  "language_info": {
   "file_extension": ".rb",
   "mimetype": "application/x-ruby",
   "name": "ruby",
   "version": "3.0.2"
  }
 },
 "nbformat": 4,
 "nbformat_minor": 5
}
