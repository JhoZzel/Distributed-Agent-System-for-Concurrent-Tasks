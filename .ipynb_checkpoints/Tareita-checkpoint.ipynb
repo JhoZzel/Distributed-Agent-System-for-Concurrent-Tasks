{
 "cells": [
  {
   "cell_type": "markdown",
   "id": "c4386a75-3293-4c17-9f99-9b11b5dce854",
   "metadata": {},
   "source": [
    "Ejercicio 1:"
   ]
  },
  {
   "cell_type": "code",
   "execution_count": 2,
   "id": "83023c73-e89b-4aa3-b39e-1c3e8555d527",
   "metadata": {},
   "outputs": [
    {
     "name": "stdout",
     "output_type": "stream",
     "text": [
      "azerec\n",
      "onatlp\n"
     ]
    },
    {
     "data": {
      "text/plain": [
       "\"cereza onatlp\""
      ]
     },
     "execution_count": 2,
     "metadata": {},
     "output_type": "execute_result"
    }
   ],
   "source": [
    "fruta1 = \"cereza\"\n",
    "fruta2 = \"pltano\"\n",
    "puts fruta1.reverse\n",
    "puts fruta2.reverse!\n",
    "fruta1 + \" \" + fruta2"
   ]
  },
  {
   "cell_type": "raw",
   "id": "646cb748-e979-44d0-adbd-6e0030f07ad2",
   "metadata": {},
   "source": [
    "En la línea 3 y 4, tenemos el método *reverse* y *reverse!*. El primero (reverse) ejecuta dicho método para la cadena fruta1; en cambio, el segundo (reverse!), ejecuta dicho método para la cadena fruta2, y la actualiza a dicho valor."
   ]
  },
  {
   "cell_type": "code",
   "execution_count": 24,
   "id": "c9b7a219-d5f6-4287-bdf9-82150c3d3148",
   "metadata": {},
   "outputs": [
    {
     "data": {
      "text/plain": [
       "\"mundo\""
      ]
     },
     "execution_count": 24,
     "metadata": {},
     "output_type": "execute_result"
    }
   ],
   "source": [
    "class Cadena\n",
    "    @@hola = \"hola alli!\"\n",
    "    def hola; \"mundo\"; end\n",
    "end\n",
    "\n",
    "smoothie = Cadena.new\n",
    "smoothie.hola"
   ]
  },
  {
   "cell_type": "raw",
   "id": "bc3b2b3e-64c7-4bb1-ac64-1c42ac0e74b0",
   "metadata": {},
   "source": [
    "Tenemos la clase Cadena que tiene la variable de clase hola y el método hola. No obstante, si instanciamos Cadena smoothie y realizamos smoothie.hola, el resultado de este será el de llamar al método."
   ]
  },
  {
   "cell_type": "code",
   "execution_count": 31,
   "id": "a4b6565d-e4b4-45e9-a719-caa00eab03f7",
   "metadata": {},
   "outputs": [
    {
     "data": {
      "text/plain": [
       "\"Yup, that fruit tastes sour!\""
      ]
     },
     "execution_count": 31,
     "metadata": {},
     "output_type": "execute_result"
    }
   ],
   "source": [
    "class Fruit\n",
    "    def method_missing(meth)\n",
    "        if meth.to_s =~ /^tastes_(.+)\\?$/\n",
    "            \"Yup, that fruit tastes #{$1}!\"\n",
    "        else\n",
    "            super\n",
    "        end\n",
    "    end\n",
    "end\n",
    "\n",
    "orange = Fruit.new\n",
    "# orange.bitter?\n",
    "orange.tastes_sour?\n",
    "# orange.tastes_sweet?"
   ]
  },
  {
   "cell_type": "markdown",
   "id": "ccd21a75-bd5a-4782-9696-c316ebb208f8",
   "metadata": {},
   "source": [
    "El método method_missing toma un string y lo compara con una expresión regular del tipo \"tastes_\" y un espacio adicional. Si no se encuentra dicha expresión regular, llamará a super; de lo contrario, imprimirá un mensaje."
   ]
  }
 ],
 "metadata": {
  "kernelspec": {
   "display_name": "Ruby 3.2.2",
   "language": "ruby",
   "name": "ruby"
  },
  "language_info": {
   "file_extension": ".rb",
   "mimetype": "application/x-ruby",
   "name": "ruby",
   "version": "3.2.2"
  }
 },
 "nbformat": 4,
 "nbformat_minor": 5
}
